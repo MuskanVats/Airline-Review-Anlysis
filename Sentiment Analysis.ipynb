{
 "cells": [
  {
   "cell_type": "markdown",
   "metadata": {},
   "source": [
    "# EntHire Internship Project"
   ]
  },
  {
   "cell_type": "markdown",
   "metadata": {},
   "source": [
    "## Importing the libraries"
   ]
  },
  {
   "cell_type": "code",
   "execution_count": 1,
   "metadata": {},
   "outputs": [
    {
     "name": "stderr",
     "output_type": "stream",
     "text": [
      "Using TensorFlow backend.\n"
     ]
    }
   ],
   "source": [
    "import numpy as np\n",
    "import matplotlib.pyplot as plt\n",
    "import pandas as pd \n",
    "import re\n",
    "import nltk\n",
    "from nltk.corpus import stopwords\n",
    "from nltk.stem import WordNetLemmatizer\n",
    "from sklearn.preprocessing import LabelEncoder,OneHotEncoder\n",
    "from sklearn.model_selection import train_test_split\n",
    "import tensorflow as tf\n",
    "from keras.regularizers import l2\n",
    "from sklearn.metrics import classification_report\n",
    "from sklearn.metrics import confusion_matrix, accuracy_score\n",
    "from sklearn.utils import class_weight"
   ]
  },
  {
   "cell_type": "markdown",
   "metadata": {},
   "source": [
    "## Reading the data"
   ]
  },
  {
   "cell_type": "code",
   "execution_count": 2,
   "metadata": {},
   "outputs": [],
   "source": [
    "Airline=pd.read_csv(\"airline_sentiment_analysis.csv\")"
   ]
  },
  {
   "cell_type": "code",
   "execution_count": 3,
   "metadata": {},
   "outputs": [],
   "source": [
    "Airline=Airline.loc[:,::-1]"
   ]
  },
  {
   "cell_type": "code",
   "execution_count": 4,
   "metadata": {},
   "outputs": [],
   "source": [
    "Airline=Airline.iloc[:,0:2].values"
   ]
  },
  {
   "cell_type": "code",
   "execution_count": 5,
   "metadata": {},
   "outputs": [],
   "source": [
    "X = Airline[:, :-1]\n",
    "y = Airline[:, -1]"
   ]
  },
  {
   "cell_type": "code",
   "execution_count": 6,
   "metadata": {},
   "outputs": [],
   "source": [
    "labelencoder=LabelEncoder()\n",
    "y=labelencoder.fit_transform(y)"
   ]
  },
  {
   "cell_type": "markdown",
   "metadata": {},
   "source": [
    "## Use OOPs concept to load training data/Data Preprocessing"
   ]
  },
  {
   "cell_type": "code",
   "execution_count": 7,
   "metadata": {},
   "outputs": [],
   "source": [
    "X=X.flatten()"
   ]
  },
  {
   "cell_type": "code",
   "execution_count": 8,
   "metadata": {},
   "outputs": [],
   "source": [
    "class text_preprocess():\n",
    "    def __init__(self,mess,corpus=[]):\n",
    "        self.corpus=[]\n",
    "        self.mess=mess\n",
    "\n",
    "\n",
    "    def Preprocessing(self):\n",
    "        for i in range(0, len(self.mess)):\n",
    "            review = [word for word in self.mess[i].split() if not word[0]==\"@\"]\n",
    "            review = ' '.join(review)\n",
    "            review = re.sub('[^a-zA-Z]', ' ', review)\n",
    "            review = review.lower()\n",
    "            review = review.split()\n",
    "            lemmatizer = WordNetLemmatizer()\n",
    "            review = [lemmatizer.lemmatize(word) for word in review if not word in set(stopwords.words('english'))]\n",
    "            review = ' '.join(review)\n",
    "            self.corpus.append(review)\n",
    "        tokenizer = Tokenizer(oov_token=\"OOV\")\n",
    "        tokenizer.fit_on_texts(self.corpus)\n",
    "        word_index=tokenizer.word_index\n",
    "        sequence = tokenizer.texts_to_sequences(self.corpus)\n",
    "        input_sequences= np.array(pad_sequences(sequence, maxlen=120, padding='pre'))\n",
    "        return input_sequences"
   ]
  },
  {
   "cell_type": "code",
   "execution_count": 10,
   "metadata": {},
   "outputs": [],
   "source": [
    "from tensorflow.keras.preprocessing.text import Tokenizer\n",
    "from tensorflow.keras.preprocessing.sequence import pad_sequences"
   ]
  },
  {
   "cell_type": "code",
   "execution_count": 11,
   "metadata": {},
   "outputs": [],
   "source": [
    "Predictor=text_preprocess(X)\n",
    "input_sequences=Predictor.Preprocessing()\n"
   ]
  },
  {
   "cell_type": "code",
   "execution_count": 12,
   "metadata": {},
   "outputs": [],
   "source": [
    "input_sequences=np.array(input_sequences)"
   ]
  },
  {
   "cell_type": "code",
   "execution_count": 13,
   "metadata": {
    "scrolled": true
   },
   "outputs": [
    {
     "name": "stdout",
     "output_type": "stream",
     "text": [
      "[[   0    0    0 ... 1183   86 4549]\n",
      " [   0    0    0 ...   17  348 2023]\n",
      " [   0    0    0 ...  313  110  174]\n",
      " ...\n",
      " [   0    0    0 ...  273    2  344]\n",
      " [   0    0    0 ... 1421    9  758]\n",
      " [   0    0    0 ... 1253   45 1755]] [1 0 0 ... 1 0 0]\n"
     ]
    }
   ],
   "source": [
    "print(input_sequences,y)"
   ]
  },
  {
   "cell_type": "markdown",
   "metadata": {},
   "source": [
    "## Splitting the data into train and test set"
   ]
  },
  {
   "cell_type": "code",
   "execution_count": 14,
   "metadata": {},
   "outputs": [],
   "source": [
    "# Splitting the dataset into the Training set and Test set\n",
    "X_train, X_test, y_train, y_test = train_test_split(input_sequences, y, test_size = 0.20, random_state = 0)"
   ]
  },
  {
   "cell_type": "markdown",
   "metadata": {},
   "source": [
    "## Use OOPs concept to train the model"
   ]
  },
  {
   "cell_type": "code",
   "execution_count": 15,
   "metadata": {},
   "outputs": [],
   "source": [
    "vocab_size = 10000\n",
    "embedding_dim = 16\n",
    "max_length = 120\n",
    "trunc_type='post'\n",
    "oov_tok = \"<OOV>\""
   ]
  },
  {
   "cell_type": "code",
   "execution_count": 28,
   "metadata": {},
   "outputs": [],
   "source": [
    "\n",
    "class_weight_list = class_weight.compute_class_weight('balanced', np.unique(y_train), y_train)\n",
    "class_weight = dict(zip(np.unique(y_train), class_weight_list))"
   ]
  },
  {
   "cell_type": "code",
   "execution_count": 18,
   "metadata": {},
   "outputs": [],
   "source": [
    "class build_model:\n",
    "   def __init__(self,x_train,y_train,x_test,y_test,callbacks=None, epochs=100):\n",
    "    self.x_train=x_train\n",
    "    self.y_train=y_train\n",
    "    self.x_test=x_test\n",
    "    self.y_test=y_test\n",
    "    \n",
    "   def layers(self, vocab_size,embedding_dim,num_epochs,max_length):\n",
    "    lr_schedule = tf.keras.callbacks.LearningRateScheduler(\n",
    "    lambda epoch: 1e-7* 10**(epoch / 20))\n",
    "    \n",
    "    opt = tf.keras.optimizers.Adam(learning_rate=1e-7)\n",
    "    \n",
    "    model = tf.keras.Sequential([\n",
    "    tf.keras.layers.Embedding(vocab_size, embedding_dim, input_length=max_length),\n",
    "    tf.keras.layers.GlobalAveragePooling1D(),\n",
    "    tf.keras.layers.Dense(24, activation='relu'),\n",
    "    tf.keras.layers.Dense(1, activation='sigmoid')\n",
    "    ])\n",
    "    model.compile(loss='binary_crossentropy',optimizer=opt,metrics=['accuracy'])\n",
    "    history = model.fit(self.x_train, self.y_train, epochs=num_epochs, validation_data=(self.x_test, self.y_test),\n",
    "                        class_weight=class_weight, verbose=2,callbacks=[lr_schedule])\n",
    "    return history,model"
   ]
  },
  {
   "cell_type": "code",
   "execution_count": 19,
   "metadata": {},
   "outputs": [],
   "source": [
    "base_model=build_model(X_train,y_train,X_test,y_test)"
   ]
  },
  {
   "cell_type": "code",
   "execution_count": 29,
   "metadata": {},
   "outputs": [
    {
     "name": "stdout",
     "output_type": "stream",
     "text": [
      "WARNING:tensorflow:sample_weight modes were coerced from\n",
      "  ...\n",
      "    to  \n",
      "  ['...']\n",
      "WARNING:tensorflow:sample_weight modes were coerced from\n",
      "  ...\n",
      "    to  \n",
      "  ['...']\n",
      "Train on 9232 samples, validate on 2309 samples\n",
      "Epoch 1/100\n",
      "9232/9232 - 8s - loss: 0.6934 - accuracy: 0.7950 - val_loss: 0.6915 - val_accuracy: 0.7964\n",
      "Epoch 2/100\n",
      "9232/9232 - 2s - loss: 0.6934 - accuracy: 0.7950 - val_loss: 0.6915 - val_accuracy: 0.7964\n",
      "Epoch 3/100\n",
      "9232/9232 - 2s - loss: 0.6934 - accuracy: 0.7950 - val_loss: 0.6915 - val_accuracy: 0.7964\n",
      "Epoch 4/100\n",
      "9232/9232 - 2s - loss: 0.6934 - accuracy: 0.7950 - val_loss: 0.6915 - val_accuracy: 0.7964\n",
      "Epoch 5/100\n",
      "9232/9232 - 2s - loss: 0.6934 - accuracy: 0.7950 - val_loss: 0.6915 - val_accuracy: 0.7964\n",
      "Epoch 6/100\n",
      "9232/9232 - 2s - loss: 0.6934 - accuracy: 0.7950 - val_loss: 0.6915 - val_accuracy: 0.7964\n",
      "Epoch 7/100\n",
      "9232/9232 - 2s - loss: 0.6934 - accuracy: 0.7950 - val_loss: 0.6915 - val_accuracy: 0.7964\n",
      "Epoch 8/100\n",
      "9232/9232 - 2s - loss: 0.6934 - accuracy: 0.7950 - val_loss: 0.6915 - val_accuracy: 0.7964\n",
      "Epoch 9/100\n",
      "9232/9232 - 2s - loss: 0.6934 - accuracy: 0.7950 - val_loss: 0.6915 - val_accuracy: 0.7964\n",
      "Epoch 10/100\n",
      "9232/9232 - 2s - loss: 0.6934 - accuracy: 0.7950 - val_loss: 0.6915 - val_accuracy: 0.7964\n",
      "Epoch 11/100\n",
      "9232/9232 - 2s - loss: 0.6934 - accuracy: 0.7950 - val_loss: 0.6915 - val_accuracy: 0.7964\n",
      "Epoch 12/100\n",
      "9232/9232 - 1s - loss: 0.6934 - accuracy: 0.7950 - val_loss: 0.6915 - val_accuracy: 0.7964\n",
      "Epoch 13/100\n",
      "9232/9232 - 2s - loss: 0.6934 - accuracy: 0.7950 - val_loss: 0.6915 - val_accuracy: 0.7964\n",
      "Epoch 14/100\n",
      "9232/9232 - 1s - loss: 0.6934 - accuracy: 0.7950 - val_loss: 0.6915 - val_accuracy: 0.7964\n",
      "Epoch 15/100\n",
      "9232/9232 - 2s - loss: 0.6934 - accuracy: 0.7950 - val_loss: 0.6915 - val_accuracy: 0.7964\n",
      "Epoch 16/100\n",
      "9232/9232 - 2s - loss: 0.6934 - accuracy: 0.7950 - val_loss: 0.6915 - val_accuracy: 0.7964\n",
      "Epoch 17/100\n",
      "9232/9232 - 1s - loss: 0.6934 - accuracy: 0.7950 - val_loss: 0.6915 - val_accuracy: 0.7964\n",
      "Epoch 18/100\n",
      "9232/9232 - 2s - loss: 0.6934 - accuracy: 0.7950 - val_loss: 0.6915 - val_accuracy: 0.7964\n",
      "Epoch 19/100\n",
      "9232/9232 - 2s - loss: 0.6934 - accuracy: 0.7950 - val_loss: 0.6915 - val_accuracy: 0.7964\n",
      "Epoch 20/100\n",
      "9232/9232 - 1s - loss: 0.6934 - accuracy: 0.7950 - val_loss: 0.6915 - val_accuracy: 0.7964\n",
      "Epoch 21/100\n",
      "9232/9232 - 1s - loss: 0.6934 - accuracy: 0.7950 - val_loss: 0.6915 - val_accuracy: 0.7964\n",
      "Epoch 22/100\n",
      "9232/9232 - 2s - loss: 0.6934 - accuracy: 0.7950 - val_loss: 0.6915 - val_accuracy: 0.7964\n",
      "Epoch 23/100\n",
      "9232/9232 - 1s - loss: 0.6934 - accuracy: 0.7950 - val_loss: 0.6914 - val_accuracy: 0.7964\n",
      "Epoch 24/100\n",
      "9232/9232 - 1s - loss: 0.6934 - accuracy: 0.7950 - val_loss: 0.6914 - val_accuracy: 0.7964\n",
      "Epoch 25/100\n",
      "9232/9232 - 1s - loss: 0.6933 - accuracy: 0.7950 - val_loss: 0.6914 - val_accuracy: 0.7964\n",
      "Epoch 26/100\n",
      "9232/9232 - 1s - loss: 0.6933 - accuracy: 0.7950 - val_loss: 0.6914 - val_accuracy: 0.7964\n",
      "Epoch 27/100\n",
      "9232/9232 - 1s - loss: 0.6933 - accuracy: 0.7950 - val_loss: 0.6914 - val_accuracy: 0.7964\n",
      "Epoch 28/100\n",
      "9232/9232 - 1s - loss: 0.6933 - accuracy: 0.7950 - val_loss: 0.6914 - val_accuracy: 0.7964\n",
      "Epoch 29/100\n",
      "9232/9232 - 1s - loss: 0.6933 - accuracy: 0.7950 - val_loss: 0.6914 - val_accuracy: 0.7964\n",
      "Epoch 30/100\n",
      "9232/9232 - 1s - loss: 0.6933 - accuracy: 0.7950 - val_loss: 0.6914 - val_accuracy: 0.7964\n",
      "Epoch 31/100\n",
      "9232/9232 - 1s - loss: 0.6933 - accuracy: 0.7950 - val_loss: 0.6914 - val_accuracy: 0.7964\n",
      "Epoch 32/100\n",
      "9232/9232 - 1s - loss: 0.6933 - accuracy: 0.7950 - val_loss: 0.6914 - val_accuracy: 0.7964\n",
      "Epoch 33/100\n",
      "9232/9232 - 1s - loss: 0.6933 - accuracy: 0.7950 - val_loss: 0.6914 - val_accuracy: 0.7964\n",
      "Epoch 34/100\n",
      "9232/9232 - 1s - loss: 0.6932 - accuracy: 0.7950 - val_loss: 0.6913 - val_accuracy: 0.7964\n",
      "Epoch 35/100\n",
      "9232/9232 - 1s - loss: 0.6932 - accuracy: 0.7950 - val_loss: 0.6913 - val_accuracy: 0.7964\n",
      "Epoch 36/100\n",
      "9232/9232 - 1s - loss: 0.6932 - accuracy: 0.7950 - val_loss: 0.6913 - val_accuracy: 0.7964\n",
      "Epoch 37/100\n",
      "9232/9232 - 1s - loss: 0.6932 - accuracy: 0.7950 - val_loss: 0.6913 - val_accuracy: 0.7964\n",
      "Epoch 38/100\n",
      "9232/9232 - 1s - loss: 0.6931 - accuracy: 0.7950 - val_loss: 0.6912 - val_accuracy: 0.7964\n",
      "Epoch 39/100\n",
      "9232/9232 - 1s - loss: 0.6931 - accuracy: 0.7950 - val_loss: 0.6912 - val_accuracy: 0.7964\n",
      "Epoch 40/100\n",
      "9232/9232 - 1s - loss: 0.6931 - accuracy: 0.7950 - val_loss: 0.6912 - val_accuracy: 0.7964\n",
      "Epoch 41/100\n",
      "9232/9232 - 1s - loss: 0.6930 - accuracy: 0.7950 - val_loss: 0.6911 - val_accuracy: 0.7964\n",
      "Epoch 42/100\n",
      "9232/9232 - 1s - loss: 0.6930 - accuracy: 0.7950 - val_loss: 0.6911 - val_accuracy: 0.7964\n",
      "Epoch 43/100\n",
      "9232/9232 - 1s - loss: 0.6930 - accuracy: 0.7950 - val_loss: 0.6911 - val_accuracy: 0.7964\n",
      "Epoch 44/100\n",
      "9232/9232 - 1s - loss: 0.6929 - accuracy: 0.7950 - val_loss: 0.6910 - val_accuracy: 0.7964\n",
      "Epoch 45/100\n",
      "9232/9232 - 1s - loss: 0.6928 - accuracy: 0.7950 - val_loss: 0.6910 - val_accuracy: 0.7964\n",
      "Epoch 46/100\n",
      "9232/9232 - 1s - loss: 0.6928 - accuracy: 0.7950 - val_loss: 0.6909 - val_accuracy: 0.7964\n",
      "Epoch 47/100\n",
      "9232/9232 - 2s - loss: 0.6927 - accuracy: 0.7950 - val_loss: 0.6908 - val_accuracy: 0.7964\n",
      "Epoch 48/100\n",
      "9232/9232 - 1s - loss: 0.6926 - accuracy: 0.7950 - val_loss: 0.6907 - val_accuracy: 0.7969\n",
      "Epoch 49/100\n",
      "9232/9232 - 1s - loss: 0.6925 - accuracy: 0.7960 - val_loss: 0.6906 - val_accuracy: 0.7977\n",
      "Epoch 50/100\n",
      "9232/9232 - 1s - loss: 0.6924 - accuracy: 0.8333 - val_loss: 0.6905 - val_accuracy: 0.8090\n",
      "Epoch 51/100\n",
      "9232/9232 - 2s - loss: 0.6922 - accuracy: 0.8216 - val_loss: 0.6903 - val_accuracy: 0.8653\n",
      "Epoch 52/100\n",
      "9232/9232 - 2s - loss: 0.6920 - accuracy: 0.8380 - val_loss: 0.6901 - val_accuracy: 0.8792\n",
      "Epoch 53/100\n",
      "9232/9232 - 2s - loss: 0.6917 - accuracy: 0.8529 - val_loss: 0.6898 - val_accuracy: 0.6960\n",
      "Epoch 54/100\n",
      "9232/9232 - 2s - loss: 0.6914 - accuracy: 0.8091 - val_loss: 0.6894 - val_accuracy: 0.5860\n",
      "Epoch 55/100\n",
      "9232/9232 - 2s - loss: 0.6909 - accuracy: 0.4367 - val_loss: 0.6890 - val_accuracy: 0.6245\n",
      "Epoch 56/100\n",
      "9232/9232 - 2s - loss: 0.6903 - accuracy: 0.6013 - val_loss: 0.6883 - val_accuracy: 0.7783\n",
      "Epoch 57/100\n",
      "9232/9232 - 2s - loss: 0.6895 - accuracy: 0.7984 - val_loss: 0.6874 - val_accuracy: 0.7159\n",
      "Epoch 58/100\n",
      "9232/9232 - 2s - loss: 0.6883 - accuracy: 0.6789 - val_loss: 0.6860 - val_accuracy: 0.7917\n",
      "Epoch 59/100\n",
      "9232/9232 - 2s - loss: 0.6865 - accuracy: 0.8155 - val_loss: 0.6840 - val_accuracy: 0.7570\n",
      "Epoch 60/100\n",
      "9232/9232 - 2s - loss: 0.6838 - accuracy: 0.8120 - val_loss: 0.6809 - val_accuracy: 0.8393\n",
      "Epoch 61/100\n",
      "9232/9232 - 1s - loss: 0.6797 - accuracy: 0.8374 - val_loss: 0.6763 - val_accuracy: 0.8393\n",
      "Epoch 62/100\n",
      "9232/9232 - 1s - loss: 0.6736 - accuracy: 0.8794 - val_loss: 0.6694 - val_accuracy: 0.7757\n",
      "Epoch 63/100\n",
      "9232/9232 - 1s - loss: 0.6643 - accuracy: 0.8564 - val_loss: 0.6588 - val_accuracy: 0.8155\n",
      "Epoch 64/100\n",
      "9232/9232 - 2s - loss: 0.6505 - accuracy: 0.8648 - val_loss: 0.6434 - val_accuracy: 0.8670\n",
      "Epoch 65/100\n",
      "9232/9232 - 2s - loss: 0.6303 - accuracy: 0.8692 - val_loss: 0.6215 - val_accuracy: 0.8813\n",
      "Epoch 66/100\n",
      "9232/9232 - 1s - loss: 0.6024 - accuracy: 0.8684 - val_loss: 0.5918 - val_accuracy: 0.8597\n",
      "Epoch 67/100\n",
      "9232/9232 - 1s - loss: 0.5659 - accuracy: 0.8683 - val_loss: 0.5553 - val_accuracy: 0.8779\n",
      "Epoch 68/100\n",
      "9232/9232 - 1s - loss: 0.5216 - accuracy: 0.8645 - val_loss: 0.5119 - val_accuracy: 0.8528\n",
      "Epoch 69/100\n",
      "9232/9232 - 1s - loss: 0.4723 - accuracy: 0.8680 - val_loss: 0.4691 - val_accuracy: 0.7921\n",
      "Epoch 70/100\n",
      "9232/9232 - 1s - loss: 0.4226 - accuracy: 0.8706 - val_loss: 0.4244 - val_accuracy: 0.8298\n",
      "Epoch 71/100\n",
      "9232/9232 - 1s - loss: 0.3750 - accuracy: 0.8760 - val_loss: 0.3894 - val_accuracy: 0.8809\n",
      "Epoch 72/100\n",
      "9232/9232 - 1s - loss: 0.3337 - accuracy: 0.8870 - val_loss: 0.3562 - val_accuracy: 0.8389\n",
      "Epoch 73/100\n",
      "9232/9232 - 1s - loss: 0.2972 - accuracy: 0.8924 - val_loss: 0.3420 - val_accuracy: 0.8991\n",
      "Epoch 74/100\n",
      "9232/9232 - 1s - loss: 0.2643 - accuracy: 0.9039 - val_loss: 0.3189 - val_accuracy: 0.8965\n",
      "Epoch 75/100\n",
      "9232/9232 - 1s - loss: 0.2380 - accuracy: 0.9127 - val_loss: 0.2976 - val_accuracy: 0.8922\n",
      "Epoch 76/100\n",
      "9232/9232 - 1s - loss: 0.2142 - accuracy: 0.9206 - val_loss: 0.2857 - val_accuracy: 0.8961\n",
      "Epoch 77/100\n",
      "9232/9232 - 1s - loss: 0.1934 - accuracy: 0.9254 - val_loss: 0.2817 - val_accuracy: 0.9021\n"
     ]
    },
    {
     "name": "stdout",
     "output_type": "stream",
     "text": [
      "Epoch 78/100\n",
      "9232/9232 - 1s - loss: 0.1745 - accuracy: 0.9354 - val_loss: 0.2836 - val_accuracy: 0.9099\n",
      "Epoch 79/100\n",
      "9232/9232 - 1s - loss: 0.1593 - accuracy: 0.9393 - val_loss: 0.2666 - val_accuracy: 0.8913\n",
      "Epoch 80/100\n",
      "9232/9232 - 1s - loss: 0.1432 - accuracy: 0.9445 - val_loss: 0.2661 - val_accuracy: 0.8822\n",
      "Epoch 81/100\n",
      "9232/9232 - 1s - loss: 0.1287 - accuracy: 0.9510 - val_loss: 0.2681 - val_accuracy: 0.8826\n",
      "Epoch 82/100\n",
      "9232/9232 - 1s - loss: 0.1180 - accuracy: 0.9548 - val_loss: 0.2921 - val_accuracy: 0.9177\n",
      "Epoch 83/100\n",
      "9232/9232 - 1s - loss: 0.1044 - accuracy: 0.9579 - val_loss: 0.2974 - val_accuracy: 0.9151\n",
      "Epoch 84/100\n",
      "9232/9232 - 1s - loss: 0.0922 - accuracy: 0.9669 - val_loss: 0.3167 - val_accuracy: 0.9181\n",
      "Epoch 85/100\n",
      "9232/9232 - 2s - loss: 0.0837 - accuracy: 0.9697 - val_loss: 0.3587 - val_accuracy: 0.9207\n",
      "Epoch 86/100\n",
      "9232/9232 - 2s - loss: 0.0759 - accuracy: 0.9712 - val_loss: 0.3486 - val_accuracy: 0.9155\n",
      "Epoch 87/100\n",
      "9232/9232 - 1s - loss: 0.0636 - accuracy: 0.9758 - val_loss: 0.3643 - val_accuracy: 0.9151\n",
      "Epoch 88/100\n",
      "9232/9232 - 1s - loss: 0.0560 - accuracy: 0.9797 - val_loss: 0.4719 - val_accuracy: 0.9207\n",
      "Epoch 89/100\n",
      "9232/9232 - 1s - loss: 0.0524 - accuracy: 0.9782 - val_loss: 0.4508 - val_accuracy: 0.9177\n",
      "Epoch 90/100\n",
      "9232/9232 - 1s - loss: 0.0536 - accuracy: 0.9786 - val_loss: 0.5318 - val_accuracy: 0.9177\n",
      "Epoch 91/100\n",
      "9232/9232 - 1s - loss: 0.0431 - accuracy: 0.9816 - val_loss: 0.5030 - val_accuracy: 0.9073\n",
      "Epoch 92/100\n",
      "9232/9232 - 1s - loss: 0.0400 - accuracy: 0.9843 - val_loss: 0.6061 - val_accuracy: 0.9117\n",
      "Epoch 93/100\n",
      "9232/9232 - 1s - loss: 0.0561 - accuracy: 0.9780 - val_loss: 0.5219 - val_accuracy: 0.8753\n",
      "Epoch 94/100\n",
      "9232/9232 - 1s - loss: 0.0361 - accuracy: 0.9851 - val_loss: 0.5684 - val_accuracy: 0.8558\n",
      "Epoch 95/100\n",
      "9232/9232 - 2s - loss: 0.0521 - accuracy: 0.9793 - val_loss: 0.6173 - val_accuracy: 0.8766\n",
      "Epoch 96/100\n",
      "9232/9232 - 2s - loss: 0.0425 - accuracy: 0.9825 - val_loss: 0.6242 - val_accuracy: 0.8584\n",
      "Epoch 97/100\n",
      "9232/9232 - 1s - loss: 0.0597 - accuracy: 0.9756 - val_loss: 1.0548 - val_accuracy: 0.9086\n",
      "Epoch 98/100\n",
      "9232/9232 - 1s - loss: 0.0402 - accuracy: 0.9833 - val_loss: 0.6543 - val_accuracy: 0.8779\n",
      "Epoch 99/100\n",
      "9232/9232 - 1s - loss: 0.0533 - accuracy: 0.9783 - val_loss: 0.9319 - val_accuracy: 0.9047\n",
      "Epoch 100/100\n",
      "9232/9232 - 1s - loss: 0.0444 - accuracy: 0.9825 - val_loss: 0.6849 - val_accuracy: 0.8766\n"
     ]
    }
   ],
   "source": [
    "(history,model)=base_model.layers(vocab_size,embedding_dim,100,max_length)"
   ]
  },
  {
   "cell_type": "code",
   "execution_count": 30,
   "metadata": {},
   "outputs": [
    {
     "data": {
      "text/plain": [
       "Text(0, 0.5, 'Loss')"
      ]
     },
     "execution_count": 30,
     "metadata": {},
     "output_type": "execute_result"
    },
    {
     "data": {
      "image/png": "[encoded data removed]",
      "text/plain": [
       "<Figure size 432x288 with 1 Axes>"
      ]
     },
     "metadata": {
      "needs_background": "light"
     },
     "output_type": "display_data"
    }
   ],
   "source": [
    "# FROM THIS PICK A LEARNING RATE\n",
    "plt.semilogx(history.history[\"lr\"], history.history[\"loss\"])\n",
    "plt.axis([1e-7,1e-2, 0, 1])\n",
    "plt.xlabel(\"Learning Rate\")\n",
    "plt.ylabel(\"Loss\")"
   ]
  },
  {
   "cell_type": "markdown",
   "metadata": {},
   "source": [
    "### For overfitting: Introduce Dropout layer and L2 Regularizer"
   ]
  },
  {
   "cell_type": "markdown",
   "metadata": {},
   "source": [
    "### For Hyper parameter tuning: Learning Rate Optimization"
   ]
  },
  {
   "cell_type": "code",
   "execution_count": 31,
   "metadata": {},
   "outputs": [],
   "source": [
    "def compile_train_model(x_train, y_train, x_test, y_test,epochs=15):\n",
    "    \n",
    "    opt = tf.keras.optimizers.Adam(learning_rate=1e-3)\n",
    "    \n",
    "    opt_model = tf.keras.Sequential([\n",
    "    tf.keras.layers.Embedding(vocab_size, embedding_dim, input_length=max_length),\n",
    "    tf.keras.layers.GlobalAveragePooling1D(),\n",
    "    tf.keras.layers.Dense(24, activation='relu', kernel_regularizer=l2(0.01)),\n",
    "    tf.keras.layers.Dropout(0.2),\n",
    "    tf.keras.layers.Dense(1, activation='sigmoid')\n",
    "    ])\n",
    "    \n",
    "    opt_model.compile(optimizer=opt, loss=\"binary_crossentropy\", metrics=[\"accuracy\"])\n",
    "    final_model=opt_model.fit(x_train, y_train,epochs=epochs,validation_data=(x_test,y_test), class_weight=class_weight)\n",
    "    return opt_model,final_model"
   ]
  },
  {
   "cell_type": "code",
   "execution_count": 32,
   "metadata": {},
   "outputs": [
    {
     "name": "stdout",
     "output_type": "stream",
     "text": [
      "WARNING:tensorflow:sample_weight modes were coerced from\n",
      "  ...\n",
      "    to  \n",
      "  ['...']\n",
      "WARNING:tensorflow:sample_weight modes were coerced from\n",
      "  ...\n",
      "    to  \n",
      "  ['...']\n",
      "Train on 9232 samples, validate on 2309 samples\n",
      "Epoch 1/15\n",
      "9232/9232 [==============================] - 4s 415us/sample - loss: 0.7616 - accuracy: 0.4543 - val_loss: 0.7048 - val_accuracy: 0.2036\n",
      "Epoch 2/15\n",
      "9232/9232 [==============================] - 2s 187us/sample - loss: 0.6966 - accuracy: 0.4125 - val_loss: 0.6902 - val_accuracy: 0.7969\n",
      "Epoch 3/15\n",
      "9232/9232 [==============================] - 2s 193us/sample - loss: 0.6876 - accuracy: 0.7388 - val_loss: 0.6764 - val_accuracy: 0.6600\n",
      "Epoch 4/15\n",
      "9232/9232 [==============================] - 2s 181us/sample - loss: 0.6431 - accuracy: 0.7718 - val_loss: 0.5965 - val_accuracy: 0.7683\n",
      "Epoch 5/15\n",
      "9232/9232 [==============================] - 2s 181us/sample - loss: 0.5454 - accuracy: 0.8285 - val_loss: 0.5157 - val_accuracy: 0.7956\n",
      "Epoch 6/15\n",
      "9232/9232 [==============================] - 2s 190us/sample - loss: 0.4804 - accuracy: 0.8427 - val_loss: 0.4804 - val_accuracy: 0.8974\n",
      "Epoch 7/15\n",
      "9232/9232 [==============================] - 2s 183us/sample - loss: 0.4367 - accuracy: 0.8598 - val_loss: 0.4392 - val_accuracy: 0.8675\n",
      "Epoch 8/15\n",
      "9232/9232 [==============================] - 2s 190us/sample - loss: 0.4069 - accuracy: 0.8727 - val_loss: 0.4189 - val_accuracy: 0.8354\n",
      "Epoch 9/15\n",
      "9232/9232 [==============================] - 2s 190us/sample - loss: 0.3781 - accuracy: 0.8820 - val_loss: 0.4022 - val_accuracy: 0.8900\n",
      "Epoch 10/15\n",
      "9232/9232 [==============================] - 2s 181us/sample - loss: 0.3596 - accuracy: 0.8912 - val_loss: 0.3922 - val_accuracy: 0.8276\n",
      "Epoch 11/15\n",
      "9232/9232 [==============================] - 2s 185us/sample - loss: 0.3405 - accuracy: 0.8999 - val_loss: 0.3777 - val_accuracy: 0.8428\n",
      "Epoch 12/15\n",
      "9232/9232 [==============================] - 2s 182us/sample - loss: 0.3254 - accuracy: 0.8987 - val_loss: 0.3668 - val_accuracy: 0.8917\n",
      "Epoch 13/15\n",
      "9232/9232 [==============================] - 2s 185us/sample - loss: 0.3111 - accuracy: 0.9058 - val_loss: 0.3596 - val_accuracy: 0.8965\n",
      "Epoch 14/15\n",
      "9232/9232 [==============================] - 2s 197us/sample - loss: 0.2978 - accuracy: 0.9124 - val_loss: 0.3504 - val_accuracy: 0.8956\n",
      "Epoch 15/15\n",
      "9232/9232 [==============================] - 2s 197us/sample - loss: 0.2874 - accuracy: 0.9162 - val_loss: 0.3439 - val_accuracy: 0.8926\n"
     ]
    }
   ],
   "source": [
    "(opt_model,final_model)=compile_train_model(X_train,y_train,X_test,y_test)"
   ]
  },
  {
   "cell_type": "markdown",
   "metadata": {},
   "source": [
    "## Prediction"
   ]
  },
  {
   "cell_type": "code",
   "execution_count": 33,
   "metadata": {},
   "outputs": [],
   "source": [
    "y_pred=opt_model.predict_classes(X_test)"
   ]
  },
  {
   "cell_type": "code",
   "execution_count": 35,
   "metadata": {},
   "outputs": [
    {
     "name": "stdout",
     "output_type": "stream",
     "text": [
      "Negative\n"
     ]
    }
   ],
   "source": [
    "Pred=text_preprocess([\"Worst flight ever\"])\n",
    "check=Pred.Preprocessing()\n",
    "pred=opt_model.predict_classes(check)\n",
    "pred =  'Positive' if pred > 0.5 else 'Negative'\n",
    "print(pred)"
   ]
  },
  {
   "cell_type": "markdown",
   "metadata": {},
   "source": [
    "## Use OOPs concept to implement inference"
   ]
  },
  {
   "cell_type": "code",
   "execution_count": 38,
   "metadata": {},
   "outputs": [],
   "source": [
    "class Metrics:\n",
    "    def __init__(self,test_label, Predicted_label):\n",
    "        self.test_label=test_label\n",
    "        self.Predicted_label=Predicted_label\n",
    "    def ConfusionMatrix(self,test_label,Predicted_label):\n",
    "        cm=confusion_matrix(test_label,Predicted_label)\n",
    "        return cm\n",
    "    def Report(self,test_label,Predicted_label):\n",
    "        report = classification_report(test_label, Predicted_label)\n",
    "        return report\n"
   ]
  },
  {
   "cell_type": "code",
   "execution_count": 39,
   "metadata": {},
   "outputs": [],
   "source": [
    "Inference=Metrics(y_test, y_pred)"
   ]
  },
  {
   "cell_type": "code",
   "execution_count": 40,
   "metadata": {},
   "outputs": [
    {
     "name": "stdout",
     "output_type": "stream",
     "text": [
      "[[1641  198]\n",
      " [  50  420]]\n"
     ]
    }
   ],
   "source": [
    "print(Inference.ConfusionMatrix(y_test,y_pred))"
   ]
  },
  {
   "cell_type": "code",
   "execution_count": 41,
   "metadata": {},
   "outputs": [
    {
     "name": "stdout",
     "output_type": "stream",
     "text": [
      "              precision    recall  f1-score   support\n",
      "\n",
      "           0       0.97      0.89      0.93      1839\n",
      "           1       0.68      0.89      0.77       470\n",
      "\n",
      "    accuracy                           0.89      2309\n",
      "   macro avg       0.83      0.89      0.85      2309\n",
      "weighted avg       0.91      0.89      0.90      2309\n",
      "\n"
     ]
    }
   ],
   "source": [
    "print(Inference.Report(y_test,y_pred))"
   ]
  },
  {
   "cell_type": "code",
   "execution_count": 42,
   "metadata": {},
   "outputs": [
    {
     "name": "stdout",
     "output_type": "stream",
     "text": [
      "9232/9232 [==============================] - 1s 85us/sample - loss: 0.2733 - accuracy: 0.9263\n",
      "2309/2309 [==============================] - 0s 68us/sample - loss: 0.3283 - accuracy: 0.8926\n",
      "[0.27325846345213917, 0.92634314] [0.3282866736494034, 0.8925942]\n"
     ]
    }
   ],
   "source": [
    "#Model Evaluation\n",
    "train_acc = opt_model.evaluate(X_train, y_train)\n",
    "test_acc = opt_model.evaluate(X_test,y_test)\n",
    "print(train_acc, test_acc)"
   ]
  },
  {
   "cell_type": "markdown",
   "metadata": {},
   "source": [
    "## Data Visualization"
   ]
  },
  {
   "cell_type": "code",
   "execution_count": 43,
   "metadata": {},
   "outputs": [],
   "source": [
    "loss_train = final_model.history['loss']\n",
    "loss_val = final_model.history['val_loss']\n",
    "epochs=range(len(loss_train)) \n",
    "\n",
    "def plot_loss(training_loss,testing_loss):    \n",
    "\n",
    "    plt.plot(epochs, training_loss, 'g', label='Training loss')\n",
    "    plt.plot(epochs, testing_loss, 'b', label='validation loss')\n",
    "    plt.title('Training and Validation loss')\n",
    "    plt.xlabel('Epochs')\n",
    "    plt.ylabel('Loss')\n",
    "    plt.legend()\n",
    "    plt.grid(True)\n",
    "    plt.show()"
   ]
  },
  {
   "cell_type": "code",
   "execution_count": 44,
   "metadata": {},
   "outputs": [
    {
     "data": {
      "image/png": "[encoded data removed]",
      "text/plain": [
       "<Figure size 720x432 with 1 Axes>"
      ]
     },
     "metadata": {
      "needs_background": "light"
     },
     "output_type": "display_data"
    }
   ],
   "source": [
    "plt.figure(figsize=(10,6))\n",
    "plot_loss(loss_train,loss_val)"
   ]
  },
  {
   "cell_type": "code",
   "execution_count": 45,
   "metadata": {},
   "outputs": [],
   "source": [
    "acc_train = final_model.history['accuracy']\n",
    "acc_val = final_model.history['val_accuracy']\n",
    "\n",
    "\n",
    "def plot_accuracy(training_acc,testing_acc):    \n",
    "\n",
    "    plt.plot(epochs, training_acc, 'g', label='Training Accuracy')\n",
    "    plt.plot(epochs, testing_acc, 'b', label='validation Accuracy')\n",
    "    plt.title('Training and Validation Accuracy')\n",
    "    plt.xlabel('Epochs')\n",
    "    plt.ylabel('Accuracy')\n",
    "    plt.legend()\n",
    "    plt.grid(True)\n",
    "    plt.show()"
   ]
  },
  {
   "cell_type": "code",
   "execution_count": 46,
   "metadata": {},
   "outputs": [
    {
     "data": {
      "image/png": "[encoded data removed]",
      "text/plain": [
       "<Figure size 720x432 with 1 Axes>"
      ]
     },
     "metadata": {
      "needs_background": "light"
     },
     "output_type": "display_data"
    }
   ],
   "source": [
    "plt.figure(figsize=(10,6))\n",
    "plot_accuracy(acc_train,acc_val)"
   ]
  },
  {
   "cell_type": "markdown",
   "metadata": {},
   "source": [
    "## Pickle"
   ]
  },
  {
   "cell_type": "code",
   "execution_count": 47,
   "metadata": {},
   "outputs": [
    {
     "name": "stdout",
     "output_type": "stream",
     "text": [
      "Saved model to disk\n"
     ]
    }
   ],
   "source": [
    "opt_model.save(\"model.h5\")\n",
    "print(\"Saved model to disk\")"
   ]
  }
 ],
 "metadata": {
  "kernelspec": {
   "display_name": "Python 3",
   "language": "python",
   "name": "python3"
  },
  "language_info": {
   "codemirror_mode": {
    "name": "ipython",
    "version": 3
   },
   "file_extension": ".py",
   "mimetype": "text/x-python",
   "name": "python",
   "nbconvert_exporter": "python",
   "pygments_lexer": "ipython3",
   "version": "3.7.9"
  }
 },
 "nbformat": 4,
 "nbformat_minor": 4
}
