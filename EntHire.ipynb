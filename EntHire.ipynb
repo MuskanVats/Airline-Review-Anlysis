{
 "cells": [
  {
   "cell_type": "markdown",
   "metadata": {},
   "source": [
    "# EntHire Internship Project"
   ]
  },
  {
   "cell_type": "markdown",
   "metadata": {},
   "source": [
    "## Importing libraries"
   ]
  },
  {
   "cell_type": "code",
   "execution_count": 1,
   "metadata": {},
   "outputs": [
    {
     "name": "stderr",
     "output_type": "stream",
     "text": [
      "Using TensorFlow backend.\n"
     ]
    }
   ],
   "source": [
    "#For reading dataset and working with arrays\n",
    "import numpy as np\n",
    "import pandas as pd\n",
    "\n",
    "#For data preprocessing, train-test split and metrics\n",
    "from sklearn.preprocessing import LabelEncoder,OneHotEncoder\n",
    "from sklearn.model_selection import train_test_split\n",
    "from sklearn.metrics import classification_report\n",
    "from sklearn.metrics import confusion_matrix, accuracy_score\n",
    "\n",
    "#For Deep Learning\n",
    "import tensorflow as tf\n",
    "from tensorflow.keras.preprocessing.text import Tokenizer\n",
    "from tensorflow.keras.preprocessing.sequence import pad_sequences\n",
    "from keras.regularizers import l2\n",
    "\n",
    "#For data visualization\n",
    "import matplotlib.pyplot as plt\n",
    "\n",
    "#For API\n",
    "from wsgiref.simple_server import make_server\n",
    "from pyramid.config import Configurator\n",
    "from pyramid.response import Response"
   ]
  },
  {
   "cell_type": "markdown",
   "metadata": {},
   "source": [
    "## Reading the data"
   ]
  },
  {
   "cell_type": "code",
   "execution_count": 2,
   "metadata": {},
   "outputs": [],
   "source": [
    "Airline=pd.read_csv(\"airline_sentiment_analysis.csv\")"
   ]
  },
  {
   "cell_type": "markdown",
   "metadata": {},
   "source": [
    "## Data Preprocessing"
   ]
  },
  {
   "cell_type": "code",
   "execution_count": 3,
   "metadata": {},
   "outputs": [],
   "source": [
    "Airline=Airline.loc[:,::-1]"
   ]
  },
  {
   "cell_type": "code",
   "execution_count": 4,
   "metadata": {},
   "outputs": [],
   "source": [
    "Airline=Airline.iloc[:,0:2].values"
   ]
  },
  {
   "cell_type": "code",
   "execution_count": 5,
   "metadata": {},
   "outputs": [],
   "source": [
    "Airline[:,0]=[x.lower() for x in Airline[:,0]]"
   ]
  },
  {
   "cell_type": "code",
   "execution_count": 6,
   "metadata": {},
   "outputs": [],
   "source": [
    "#To work with categorical variable:reviews \n",
    "labelencoder=LabelEncoder()\n",
    "Airline[:,1]=labelencoder.fit_transform(Airline[:,1])\n"
   ]
  },
  {
   "cell_type": "markdown",
   "metadata": {},
   "source": [
    "## Splitting the train and test set"
   ]
  },
  {
   "cell_type": "code",
   "execution_count": 7,
   "metadata": {},
   "outputs": [],
   "source": [
    "train_data,test_data=train_test_split(Airline, test_size=0.25,random_state=0)"
   ]
  },
  {
   "cell_type": "markdown",
   "metadata": {},
   "source": [
    "### Use OOPs concept to load training data"
   ]
  },
  {
   "cell_type": "code",
   "execution_count": 8,
   "metadata": {},
   "outputs": [],
   "source": [
    "vocab_size = 10000\n",
    "embedding_dim = 16\n",
    "max_length = 120\n",
    "trunc_type='post'\n",
    "oov_tok = \"<OOV>\""
   ]
  },
  {
   "cell_type": "code",
   "execution_count": 9,
   "metadata": {},
   "outputs": [],
   "source": [
    "class data_load:\n",
    "    def __init__(self, train_data, test_data):\n",
    "        self.train_data=train_data\n",
    "        self.test_data=test_data\n",
    "   \n",
    "    \n",
    "    def Labels(self,train_data,test_data):\n",
    "        \n",
    "        training_sentences=[]\n",
    "        training_labels=[]\n",
    "\n",
    "        testing_sentences=[]\n",
    "        testing_labels=[]\n",
    "\n",
    "        for s,l in train_data:\n",
    "          training_sentences.append(s)\n",
    "          training_labels.append(l)\n",
    "\n",
    "        for s,l in test_data:\n",
    "          testing_sentences.append(s)\n",
    "          testing_labels.append(l)\n",
    "            \n",
    "        y_train=np.array(training_labels)\n",
    "        y_test=np.array(testing_labels)\n",
    "        \n",
    "        self.training_sentences=training_sentences\n",
    "        self.testing_sentences=testing_sentences\n",
    "        \n",
    "        return (y_train,y_test)\n",
    "        \n",
    "    def Predictors(self,vocab_size,maxlen,truncating='post'):\n",
    "        tokenizer=Tokenizer(num_words=vocab_size, oov_token=oov_tok)\n",
    "        tokenizer.fit_on_texts(self.training_sentences)\n",
    "        \n",
    "        word_index=tokenizer.word_index\n",
    "        self.word_index=word_index\n",
    "\n",
    "        #For training data\n",
    "        sequences=tokenizer.texts_to_sequences(self.training_sentences)\n",
    "        x_train=pad_sequences(sequences,maxlen=max_length,truncating=trunc_type)\n",
    "\n",
    "        #For testing data\n",
    "        testing_sequences=tokenizer.texts_to_sequences(self.testing_sentences)\n",
    "        x_test = pad_sequences(testing_sequences,maxlen=max_length,truncating=trunc_type)\n",
    "        return (x_train,x_test)\n",
    "    \n",
    "    #Reverse the word index key-value pair    \n",
    "    def decode_review(self,text):\n",
    "        reverse_word_index= dict([(value,key) for(key, value) in self.word_index.items()])\n",
    "        return \" \".join([reverse_word_index.get(i,\"?\") for i in text])"
   ]
  },
  {
   "cell_type": "code",
   "execution_count": 10,
   "metadata": {},
   "outputs": [],
   "source": [
    "Data=data_load(train_data,test_data)"
   ]
  },
  {
   "cell_type": "code",
   "execution_count": 11,
   "metadata": {},
   "outputs": [],
   "source": [
    "(y_train,y_test)=Data.Labels(train_data,test_data)"
   ]
  },
  {
   "cell_type": "code",
   "execution_count": 12,
   "metadata": {},
   "outputs": [],
   "source": [
    "(x_train, x_test)=Data.Predictors(vocab_size,max_length)"
   ]
  },
  {
   "cell_type": "markdown",
   "metadata": {},
   "source": [
    "# Creating model"
   ]
  },
  {
   "cell_type": "markdown",
   "metadata": {},
   "source": [
    "### Use OOPs concept to train the model"
   ]
  },
  {
   "cell_type": "code",
   "execution_count": 13,
   "metadata": {},
   "outputs": [],
   "source": [
    "tf.keras.backend.clear_session()\n",
    "class build_model:\n",
    "   def __init__(self,x_train,y_train,x_test,y_test,callbacks=None, epochs=10):\n",
    "    self.x_train=x_train\n",
    "    self.y_train=y_train\n",
    "    self.x_test=x_test\n",
    "    self.y_test=y_test\n",
    "    \n",
    "   def layers(self, vocab_size,embedding_dim,num_epochs,max_length):\n",
    "    lr_schedule = tf.keras.callbacks.LearningRateScheduler(\n",
    "    lambda epoch: 1e-7* 10**(epoch / 20))\n",
    "    \n",
    "    opt = tf.keras.optimizers.Adam(learning_rate=1e-7)\n",
    "    \n",
    "    model = tf.keras.Sequential([\n",
    "    tf.keras.layers.Embedding(vocab_size, embedding_dim, input_length=max_length),\n",
    "    tf.keras.layers.GlobalAveragePooling1D(),\n",
    "    tf.keras.layers.Dense(24, activation='relu'),\n",
    "    tf.keras.layers.Dense(1, activation='sigmoid')\n",
    "    ])\n",
    "    model.compile(loss='binary_crossentropy',optimizer=opt,metrics=['accuracy'])\n",
    "    history = model.fit(self.x_train, self.y_train, epochs=num_epochs, validation_data=(self.x_test, self.y_test), \n",
    "                        verbose=2,callbacks=[lr_schedule])\n",
    "    return history,model"
   ]
  },
  {
   "cell_type": "code",
   "execution_count": 14,
   "metadata": {},
   "outputs": [],
   "source": [
    "base_model=build_model(x_train,y_train,x_test,y_test)"
   ]
  },
  {
   "cell_type": "code",
   "execution_count": 15,
   "metadata": {},
   "outputs": [
    {
     "name": "stdout",
     "output_type": "stream",
     "text": [
      "Train on 8655 samples, validate on 2886 samples\n",
      "Epoch 1/100\n",
      "8655/8655 - 5s - loss: 0.6954 - accuracy: 0.2024 - val_loss: 0.6953 - val_accuracy: 0.2117\n",
      "Epoch 2/100\n",
      "8655/8655 - 1s - loss: 0.6953 - accuracy: 0.2024 - val_loss: 0.6952 - val_accuracy: 0.2117\n",
      "Epoch 3/100\n",
      "8655/8655 - 1s - loss: 0.6952 - accuracy: 0.2027 - val_loss: 0.6951 - val_accuracy: 0.2124\n",
      "Epoch 4/100\n",
      "8655/8655 - 1s - loss: 0.6951 - accuracy: 0.2029 - val_loss: 0.6949 - val_accuracy: 0.2124\n",
      "Epoch 5/100\n",
      "8655/8655 - 1s - loss: 0.6949 - accuracy: 0.2032 - val_loss: 0.6948 - val_accuracy: 0.2134\n",
      "Epoch 6/100\n",
      "8655/8655 - 1s - loss: 0.6948 - accuracy: 0.2034 - val_loss: 0.6946 - val_accuracy: 0.2141\n",
      "Epoch 7/100\n",
      "8655/8655 - 1s - loss: 0.6946 - accuracy: 0.2060 - val_loss: 0.6944 - val_accuracy: 0.2173\n",
      "Epoch 8/100\n",
      "8655/8655 - 1s - loss: 0.6944 - accuracy: 0.2126 - val_loss: 0.6942 - val_accuracy: 0.2266\n",
      "Epoch 9/100\n",
      "8655/8655 - 1s - loss: 0.6941 - accuracy: 0.2268 - val_loss: 0.6940 - val_accuracy: 0.2481\n",
      "Epoch 10/100\n",
      "8655/8655 - 1s - loss: 0.6939 - accuracy: 0.2607 - val_loss: 0.6937 - val_accuracy: 0.2893\n",
      "Epoch 11/100\n",
      "8655/8655 - 1s - loss: 0.6936 - accuracy: 0.3288 - val_loss: 0.6934 - val_accuracy: 0.3947\n",
      "Epoch 12/100\n",
      "8655/8655 - 1s - loss: 0.6933 - accuracy: 0.4573 - val_loss: 0.6931 - val_accuracy: 0.5485\n",
      "Epoch 13/100\n",
      "8655/8655 - 1s - loss: 0.6929 - accuracy: 0.6058 - val_loss: 0.6927 - val_accuracy: 0.6805\n",
      "Epoch 14/100\n",
      "8655/8655 - 1s - loss: 0.6925 - accuracy: 0.7196 - val_loss: 0.6923 - val_accuracy: 0.7578\n",
      "Epoch 15/100\n",
      "8655/8655 - 1s - loss: 0.6920 - accuracy: 0.7814 - val_loss: 0.6918 - val_accuracy: 0.7838\n",
      "Epoch 16/100\n",
      "8655/8655 - 1s - loss: 0.6915 - accuracy: 0.7964 - val_loss: 0.6913 - val_accuracy: 0.7883\n",
      "Epoch 17/100\n",
      "8655/8655 - 1s - loss: 0.6909 - accuracy: 0.7977 - val_loss: 0.6907 - val_accuracy: 0.7883\n",
      "Epoch 18/100\n",
      "8655/8655 - 1s - loss: 0.6903 - accuracy: 0.7976 - val_loss: 0.6900 - val_accuracy: 0.7883\n",
      "Epoch 19/100\n",
      "8655/8655 - 1s - loss: 0.6896 - accuracy: 0.7976 - val_loss: 0.6893 - val_accuracy: 0.7883\n",
      "Epoch 20/100\n",
      "8655/8655 - 1s - loss: 0.6887 - accuracy: 0.7976 - val_loss: 0.6884 - val_accuracy: 0.7883\n",
      "Epoch 21/100\n",
      "8655/8655 - 1s - loss: 0.6878 - accuracy: 0.7976 - val_loss: 0.6875 - val_accuracy: 0.7883\n",
      "Epoch 22/100\n",
      "8655/8655 - 1s - loss: 0.6868 - accuracy: 0.7976 - val_loss: 0.6865 - val_accuracy: 0.7883\n",
      "Epoch 23/100\n",
      "8655/8655 - 1s - loss: 0.6857 - accuracy: 0.7976 - val_loss: 0.6853 - val_accuracy: 0.7883\n",
      "Epoch 24/100\n",
      "8655/8655 - 1s - loss: 0.6844 - accuracy: 0.7976 - val_loss: 0.6840 - val_accuracy: 0.7883\n",
      "Epoch 25/100\n",
      "8655/8655 - 1s - loss: 0.6830 - accuracy: 0.7976 - val_loss: 0.6826 - val_accuracy: 0.7883\n",
      "Epoch 26/100\n",
      "8655/8655 - 1s - loss: 0.6814 - accuracy: 0.7976 - val_loss: 0.6810 - val_accuracy: 0.7883\n",
      "Epoch 27/100\n",
      "8655/8655 - 1s - loss: 0.6797 - accuracy: 0.7976 - val_loss: 0.6792 - val_accuracy: 0.7883\n",
      "Epoch 28/100\n",
      "8655/8655 - 1s - loss: 0.6777 - accuracy: 0.7976 - val_loss: 0.6772 - val_accuracy: 0.7883\n",
      "Epoch 29/100\n",
      "8655/8655 - 1s - loss: 0.6755 - accuracy: 0.7976 - val_loss: 0.6750 - val_accuracy: 0.7883\n",
      "Epoch 30/100\n",
      "8655/8655 - 1s - loss: 0.6731 - accuracy: 0.7976 - val_loss: 0.6725 - val_accuracy: 0.7883\n",
      "Epoch 31/100\n",
      "8655/8655 - 1s - loss: 0.6705 - accuracy: 0.7976 - val_loss: 0.6699 - val_accuracy: 0.7883\n",
      "Epoch 32/100\n",
      "8655/8655 - 1s - loss: 0.6678 - accuracy: 0.7976 - val_loss: 0.6673 - val_accuracy: 0.7883\n",
      "Epoch 33/100\n",
      "8655/8655 - 1s - loss: 0.6650 - accuracy: 0.7976 - val_loss: 0.6645 - val_accuracy: 0.7883\n",
      "Epoch 34/100\n",
      "8655/8655 - 1s - loss: 0.6620 - accuracy: 0.7976 - val_loss: 0.6615 - val_accuracy: 0.7883\n",
      "Epoch 35/100\n",
      "8655/8655 - 1s - loss: 0.6586 - accuracy: 0.7976 - val_loss: 0.6582 - val_accuracy: 0.7883\n",
      "Epoch 36/100\n",
      "8655/8655 - 1s - loss: 0.6552 - accuracy: 0.7976 - val_loss: 0.6548 - val_accuracy: 0.7883\n",
      "Epoch 37/100\n",
      "8655/8655 - 1s - loss: 0.6516 - accuracy: 0.7976 - val_loss: 0.6512 - val_accuracy: 0.7883\n",
      "Epoch 38/100\n",
      "8655/8655 - 1s - loss: 0.6477 - accuracy: 0.7976 - val_loss: 0.6472 - val_accuracy: 0.7883\n",
      "Epoch 39/100\n",
      "8655/8655 - 1s - loss: 0.6433 - accuracy: 0.7976 - val_loss: 0.6427 - val_accuracy: 0.7883\n",
      "Epoch 40/100\n",
      "8655/8655 - 1s - loss: 0.6383 - accuracy: 0.7976 - val_loss: 0.6377 - val_accuracy: 0.7883\n",
      "Epoch 41/100\n",
      "8655/8655 - 1s - loss: 0.6327 - accuracy: 0.7976 - val_loss: 0.6319 - val_accuracy: 0.7883\n",
      "Epoch 42/100\n",
      "8655/8655 - 1s - loss: 0.6263 - accuracy: 0.7976 - val_loss: 0.6254 - val_accuracy: 0.7883\n",
      "Epoch 43/100\n",
      "8655/8655 - 1s - loss: 0.6192 - accuracy: 0.7976 - val_loss: 0.6182 - val_accuracy: 0.7883\n",
      "Epoch 44/100\n",
      "8655/8655 - 1s - loss: 0.6111 - accuracy: 0.7976 - val_loss: 0.6100 - val_accuracy: 0.7883\n",
      "Epoch 45/100\n",
      "8655/8655 - 1s - loss: 0.6021 - accuracy: 0.7976 - val_loss: 0.6010 - val_accuracy: 0.7883\n",
      "Epoch 46/100\n",
      "8655/8655 - 1s - loss: 0.5921 - accuracy: 0.7976 - val_loss: 0.5909 - val_accuracy: 0.7883\n",
      "Epoch 47/100\n",
      "8655/8655 - 1s - loss: 0.5811 - accuracy: 0.7976 - val_loss: 0.5802 - val_accuracy: 0.7883\n",
      "Epoch 48/100\n",
      "8655/8655 - 1s - loss: 0.5694 - accuracy: 0.7976 - val_loss: 0.5688 - val_accuracy: 0.7883\n",
      "Epoch 49/100\n",
      "8655/8655 - 1s - loss: 0.5571 - accuracy: 0.7976 - val_loss: 0.5573 - val_accuracy: 0.7883\n",
      "Epoch 50/100\n",
      "8655/8655 - 1s - loss: 0.5449 - accuracy: 0.7976 - val_loss: 0.5462 - val_accuracy: 0.7883\n",
      "Epoch 51/100\n",
      "8655/8655 - 1s - loss: 0.5332 - accuracy: 0.7976 - val_loss: 0.5362 - val_accuracy: 0.7883\n",
      "Epoch 52/100\n",
      "8655/8655 - 1s - loss: 0.5230 - accuracy: 0.7976 - val_loss: 0.5279 - val_accuracy: 0.7883\n",
      "Epoch 53/100\n",
      "8655/8655 - 1s - loss: 0.5148 - accuracy: 0.7976 - val_loss: 0.5220 - val_accuracy: 0.7883\n",
      "Epoch 54/100\n",
      "8655/8655 - 1s - loss: 0.5091 - accuracy: 0.7976 - val_loss: 0.5182 - val_accuracy: 0.7883\n",
      "Epoch 55/100\n",
      "8655/8655 - 1s - loss: 0.5053 - accuracy: 0.7976 - val_loss: 0.5160 - val_accuracy: 0.7883\n",
      "Epoch 56/100\n",
      "8655/8655 - 1s - loss: 0.5029 - accuracy: 0.7976 - val_loss: 0.5146 - val_accuracy: 0.7883\n",
      "Epoch 57/100\n",
      "8655/8655 - 1s - loss: 0.5011 - accuracy: 0.7976 - val_loss: 0.5133 - val_accuracy: 0.7883\n",
      "Epoch 58/100\n",
      "8655/8655 - 1s - loss: 0.4996 - accuracy: 0.7976 - val_loss: 0.5118 - val_accuracy: 0.7883\n",
      "Epoch 59/100\n",
      "8655/8655 - 1s - loss: 0.4978 - accuracy: 0.7976 - val_loss: 0.5099 - val_accuracy: 0.7883\n",
      "Epoch 60/100\n",
      "8655/8655 - 1s - loss: 0.4957 - accuracy: 0.7976 - val_loss: 0.5076 - val_accuracy: 0.7883\n",
      "Epoch 61/100\n",
      "8655/8655 - 1s - loss: 0.4931 - accuracy: 0.7976 - val_loss: 0.5046 - val_accuracy: 0.7883\n",
      "Epoch 62/100\n",
      "8655/8655 - 1s - loss: 0.4899 - accuracy: 0.7976 - val_loss: 0.5009 - val_accuracy: 0.7883\n",
      "Epoch 63/100\n",
      "8655/8655 - 1s - loss: 0.4854 - accuracy: 0.7976 - val_loss: 0.4949 - val_accuracy: 0.7883\n",
      "Epoch 64/100\n",
      "8655/8655 - 1s - loss: 0.4785 - accuracy: 0.7976 - val_loss: 0.4871 - val_accuracy: 0.7883\n",
      "Epoch 65/100\n",
      "8655/8655 - 1s - loss: 0.4688 - accuracy: 0.7976 - val_loss: 0.4753 - val_accuracy: 0.7883\n",
      "Epoch 66/100\n",
      "8655/8655 - 1s - loss: 0.4556 - accuracy: 0.7976 - val_loss: 0.4590 - val_accuracy: 0.7883\n",
      "Epoch 67/100\n",
      "8655/8655 - 1s - loss: 0.4365 - accuracy: 0.7976 - val_loss: 0.4366 - val_accuracy: 0.7883\n",
      "Epoch 68/100\n",
      "8655/8655 - 1s - loss: 0.4118 - accuracy: 0.7976 - val_loss: 0.4097 - val_accuracy: 0.7883\n",
      "Epoch 69/100\n",
      "8655/8655 - 1s - loss: 0.3822 - accuracy: 0.8009 - val_loss: 0.3795 - val_accuracy: 0.7973\n",
      "Epoch 70/100\n",
      "8655/8655 - 1s - loss: 0.3505 - accuracy: 0.8358 - val_loss: 0.3524 - val_accuracy: 0.8184\n",
      "Epoch 71/100\n",
      "8655/8655 - 1s - loss: 0.3193 - accuracy: 0.8696 - val_loss: 0.3202 - val_accuracy: 0.8749\n",
      "Epoch 72/100\n",
      "8655/8655 - 1s - loss: 0.2899 - accuracy: 0.8895 - val_loss: 0.2956 - val_accuracy: 0.8919\n",
      "Epoch 73/100\n",
      "8655/8655 - 1s - loss: 0.2629 - accuracy: 0.9047 - val_loss: 0.2750 - val_accuracy: 0.8999\n",
      "Epoch 74/100\n",
      "8655/8655 - 1s - loss: 0.2380 - accuracy: 0.9157 - val_loss: 0.2552 - val_accuracy: 0.9026\n",
      "Epoch 75/100\n",
      "8655/8655 - 1s - loss: 0.2148 - accuracy: 0.9234 - val_loss: 0.2395 - val_accuracy: 0.9085\n",
      "Epoch 76/100\n",
      "8655/8655 - 1s - loss: 0.1932 - accuracy: 0.9316 - val_loss: 0.2290 - val_accuracy: 0.9113\n",
      "Epoch 77/100\n",
      "8655/8655 - 1s - loss: 0.1732 - accuracy: 0.9385 - val_loss: 0.2130 - val_accuracy: 0.9179\n",
      "Epoch 78/100\n",
      "8655/8655 - 1s - loss: 0.1558 - accuracy: 0.9453 - val_loss: 0.2034 - val_accuracy: 0.9213\n",
      "Epoch 79/100\n",
      "8655/8655 - 1s - loss: 0.1392 - accuracy: 0.9514 - val_loss: 0.1962 - val_accuracy: 0.9224\n"
     ]
    },
    {
     "name": "stdout",
     "output_type": "stream",
     "text": [
      "Epoch 80/100\n",
      "8655/8655 - 1s - loss: 0.1246 - accuracy: 0.9561 - val_loss: 0.1905 - val_accuracy: 0.9231\n",
      "Epoch 81/100\n",
      "8655/8655 - 1s - loss: 0.1108 - accuracy: 0.9614 - val_loss: 0.1867 - val_accuracy: 0.9276\n",
      "Epoch 82/100\n",
      "8655/8655 - 1s - loss: 0.0986 - accuracy: 0.9653 - val_loss: 0.1848 - val_accuracy: 0.9304\n",
      "Epoch 83/100\n",
      "8655/8655 - 1s - loss: 0.0892 - accuracy: 0.9683 - val_loss: 0.2061 - val_accuracy: 0.9210\n",
      "Epoch 84/100\n",
      "8655/8655 - 1s - loss: 0.0798 - accuracy: 0.9723 - val_loss: 0.1897 - val_accuracy: 0.9314\n",
      "Epoch 85/100\n",
      "8655/8655 - 1s - loss: 0.0665 - accuracy: 0.9792 - val_loss: 0.1900 - val_accuracy: 0.9283\n",
      "Epoch 86/100\n",
      "8655/8655 - 1s - loss: 0.0566 - accuracy: 0.9822 - val_loss: 0.2104 - val_accuracy: 0.9272\n",
      "Epoch 87/100\n",
      "8655/8655 - 1s - loss: 0.0505 - accuracy: 0.9839 - val_loss: 0.2025 - val_accuracy: 0.9297\n",
      "Epoch 88/100\n",
      "8655/8655 - 1s - loss: 0.0434 - accuracy: 0.9864 - val_loss: 0.2672 - val_accuracy: 0.9182\n",
      "Epoch 89/100\n",
      "8655/8655 - 1s - loss: 0.0356 - accuracy: 0.9894 - val_loss: 0.2284 - val_accuracy: 0.9258\n",
      "Epoch 90/100\n",
      "8655/8655 - 1s - loss: 0.0302 - accuracy: 0.9910 - val_loss: 0.2523 - val_accuracy: 0.9258\n",
      "Epoch 91/100\n",
      "8655/8655 - 1s - loss: 0.0232 - accuracy: 0.9941 - val_loss: 0.2629 - val_accuracy: 0.9245\n",
      "Epoch 92/100\n",
      "8655/8655 - 1s - loss: 0.0200 - accuracy: 0.9942 - val_loss: 0.2844 - val_accuracy: 0.9210\n",
      "Epoch 93/100\n",
      "8655/8655 - 1s - loss: 0.0181 - accuracy: 0.9947 - val_loss: 0.3079 - val_accuracy: 0.9231\n",
      "Epoch 94/100\n",
      "8655/8655 - 1s - loss: 0.0160 - accuracy: 0.9954 - val_loss: 0.3671 - val_accuracy: 0.9227\n",
      "Epoch 95/100\n",
      "8655/8655 - 1s - loss: 0.0186 - accuracy: 0.9931 - val_loss: 0.3832 - val_accuracy: 0.9099\n",
      "Epoch 96/100\n",
      "8655/8655 - 1s - loss: 0.0217 - accuracy: 0.9912 - val_loss: 0.4290 - val_accuracy: 0.9151\n",
      "Epoch 97/100\n",
      "8655/8655 - 1s - loss: 0.0113 - accuracy: 0.9960 - val_loss: 0.4858 - val_accuracy: 0.9116\n",
      "Epoch 98/100\n",
      "8655/8655 - 1s - loss: 0.0139 - accuracy: 0.9955 - val_loss: 0.4707 - val_accuracy: 0.9172\n",
      "Epoch 99/100\n",
      "8655/8655 - 1s - loss: 0.0151 - accuracy: 0.9951 - val_loss: 0.5418 - val_accuracy: 0.9109\n",
      "Epoch 100/100\n",
      "8655/8655 - 1s - loss: 0.0406 - accuracy: 0.9842 - val_loss: 0.5096 - val_accuracy: 0.8964\n"
     ]
    }
   ],
   "source": [
    "(history,model)=base_model.layers(vocab_size,embedding_dim,100,max_length)"
   ]
  },
  {
   "cell_type": "code",
   "execution_count": 16,
   "metadata": {},
   "outputs": [
    {
     "data": {
      "text/plain": [
       "Text(0, 0.5, 'Loss')"
      ]
     },
     "execution_count": 16,
     "metadata": {},
     "output_type": "execute_result"
    },
    {
     "data": {
      "image/png": "[encoded data removed]",
      "text/plain": [
       "<Figure size 432x288 with 1 Axes>"
      ]
     },
     "metadata": {
      "needs_background": "light"
     },
     "output_type": "display_data"
    }
   ],
   "source": [
    "# FROM THIS PICK A LEARNING RATE\n",
    "plt.semilogx(history.history[\"lr\"], history.history[\"loss\"])\n",
    "plt.axis([1e-7,1e-2, 0, 1])\n",
    "plt.xlabel(\"Learning Rate\")\n",
    "plt.ylabel(\"Loss\")"
   ]
  },
  {
   "cell_type": "markdown",
   "metadata": {},
   "source": [
    "### For overfitting: Introduce Dropout layer and L2 Regularizer "
   ]
  },
  {
   "cell_type": "markdown",
   "metadata": {},
   "source": [
    "### For Hyper parameter tuning: Learning Rate Optimization"
   ]
  },
  {
   "cell_type": "code",
   "execution_count": 17,
   "metadata": {},
   "outputs": [],
   "source": [
    "def compile_train_model(x_train, y_train, x_test, y_test,epochs=100):\n",
    "    \n",
    "    opt = tf.keras.optimizers.Adam(learning_rate=6e-5)\n",
    "    \n",
    "    opt_model = tf.keras.Sequential([\n",
    "    tf.keras.layers.Embedding(vocab_size, embedding_dim, input_length=max_length),\n",
    "    tf.keras.layers.GlobalAveragePooling1D(),\n",
    "    tf.keras.layers.Dense(24, activation='relu', kernel_regularizer=l2(0.001)),\n",
    "    tf.keras.layers.Dropout(0.2),\n",
    "    tf.keras.layers.Dense(1, activation='sigmoid')\n",
    "    ])\n",
    "    \n",
    "    \n",
    "                   \n",
    "    opt_model.compile(optimizer=opt, loss=\"binary_crossentropy\", metrics=[\"accuracy\"])\n",
    "    final_model=opt_model.fit(x_train, y_train,epochs=epochs,validation_data=(x_test,y_test))\n",
    "    return opt_model,final_model"
   ]
  },
  {
   "cell_type": "code",
   "execution_count": 18,
   "metadata": {},
   "outputs": [
    {
     "name": "stdout",
     "output_type": "stream",
     "text": [
      "Train on 8655 samples, validate on 2886 samples\n",
      "Epoch 1/100\n",
      "8655/8655 [==============================] - 3s 300us/sample - loss: 0.7002 - accuracy: 0.7747 - val_loss: 0.6898 - val_accuracy: 0.7883\n",
      "Epoch 2/100\n",
      "8655/8655 [==============================] - 1s 158us/sample - loss: 0.6783 - accuracy: 0.7976 - val_loss: 0.6683 - val_accuracy: 0.7883\n",
      "Epoch 3/100\n",
      "8655/8655 [==============================] - 1s 152us/sample - loss: 0.6508 - accuracy: 0.7976 - val_loss: 0.6346 - val_accuracy: 0.7883\n",
      "Epoch 4/100\n",
      "8655/8655 [==============================] - 1s 149us/sample - loss: 0.6151 - accuracy: 0.7976 - val_loss: 0.6011 - val_accuracy: 0.7883\n",
      "Epoch 5/100\n",
      "8655/8655 [==============================] - 1s 166us/sample - loss: 0.5840 - accuracy: 0.7976 - val_loss: 0.5739 - val_accuracy: 0.7883\n",
      "Epoch 6/100\n",
      "8655/8655 [==============================] - 1s 161us/sample - loss: 0.5594 - accuracy: 0.7976 - val_loss: 0.5539 - val_accuracy: 0.7883\n",
      "Epoch 7/100\n",
      "8655/8655 [==============================] - 1s 168us/sample - loss: 0.5433 - accuracy: 0.7976 - val_loss: 0.5413 - val_accuracy: 0.7883\n",
      "Epoch 8/100\n",
      "8655/8655 [==============================] - 1s 170us/sample - loss: 0.5338 - accuracy: 0.7976 - val_loss: 0.5339 - val_accuracy: 0.7883\n",
      "Epoch 9/100\n",
      "8655/8655 [==============================] - 1s 170us/sample - loss: 0.5271 - accuracy: 0.7976 - val_loss: 0.5297 - val_accuracy: 0.7883\n",
      "Epoch 10/100\n",
      "8655/8655 [==============================] - 1s 150us/sample - loss: 0.5207 - accuracy: 0.7976 - val_loss: 0.5273 - val_accuracy: 0.7883\n",
      "Epoch 11/100\n",
      "8655/8655 [==============================] - 1s 152us/sample - loss: 0.5192 - accuracy: 0.7976 - val_loss: 0.5256 - val_accuracy: 0.7883\n",
      "Epoch 12/100\n",
      "8655/8655 [==============================] - 1s 150us/sample - loss: 0.5190 - accuracy: 0.7976 - val_loss: 0.5242 - val_accuracy: 0.7883\n",
      "Epoch 13/100\n",
      "8655/8655 [==============================] - 1s 150us/sample - loss: 0.5194 - accuracy: 0.7976 - val_loss: 0.5229 - val_accuracy: 0.7883\n",
      "Epoch 14/100\n",
      "8655/8655 [==============================] - 1s 158us/sample - loss: 0.5181 - accuracy: 0.7976 - val_loss: 0.5217 - val_accuracy: 0.7883\n",
      "Epoch 15/100\n",
      "8655/8655 [==============================] - 1s 152us/sample - loss: 0.5152 - accuracy: 0.7976 - val_loss: 0.5205 - val_accuracy: 0.7883\n",
      "Epoch 16/100\n",
      "8655/8655 [==============================] - 1s 152us/sample - loss: 0.5157 - accuracy: 0.7976 - val_loss: 0.5194 - val_accuracy: 0.7883\n",
      "Epoch 17/100\n",
      "8655/8655 [==============================] - 1s 154us/sample - loss: 0.5132 - accuracy: 0.7976 - val_loss: 0.5182 - val_accuracy: 0.7883\n",
      "Epoch 18/100\n",
      "8655/8655 [==============================] - 1s 154us/sample - loss: 0.5105 - accuracy: 0.7976 - val_loss: 0.5172 - val_accuracy: 0.7883\n",
      "Epoch 19/100\n",
      "8655/8655 [==============================] - 1s 156us/sample - loss: 0.5117 - accuracy: 0.7976 - val_loss: 0.5160 - val_accuracy: 0.7883\n",
      "Epoch 20/100\n",
      "8655/8655 [==============================] - 1s 159us/sample - loss: 0.5088 - accuracy: 0.7976 - val_loss: 0.5150 - val_accuracy: 0.7883\n",
      "Epoch 21/100\n",
      "8655/8655 [==============================] - 1s 156us/sample - loss: 0.5086 - accuracy: 0.7976 - val_loss: 0.5139 - val_accuracy: 0.7883\n",
      "Epoch 22/100\n",
      "8655/8655 [==============================] - 1s 154us/sample - loss: 0.5074 - accuracy: 0.7976 - val_loss: 0.5128 - val_accuracy: 0.7883\n",
      "Epoch 23/100\n",
      "8655/8655 [==============================] - 1s 161us/sample - loss: 0.5056 - accuracy: 0.7976 - val_loss: 0.5117 - val_accuracy: 0.7883\n",
      "Epoch 24/100\n",
      "8655/8655 [==============================] - 2s 178us/sample - loss: 0.5038 - accuracy: 0.7976 - val_loss: 0.5106 - val_accuracy: 0.7883\n",
      "Epoch 25/100\n",
      "8655/8655 [==============================] - 1s 170us/sample - loss: 0.5042 - accuracy: 0.7976 - val_loss: 0.5095 - val_accuracy: 0.7883\n",
      "Epoch 26/100\n",
      "8655/8655 [==============================] - 1s 148us/sample - loss: 0.5039 - accuracy: 0.7976 - val_loss: 0.5083 - val_accuracy: 0.7883\n",
      "Epoch 27/100\n",
      "8655/8655 [==============================] - 1s 146us/sample - loss: 0.5021 - accuracy: 0.7976 - val_loss: 0.5070 - val_accuracy: 0.7883\n",
      "Epoch 28/100\n",
      "8655/8655 [==============================] - 1s 150us/sample - loss: 0.4987 - accuracy: 0.7976 - val_loss: 0.5057 - val_accuracy: 0.7883\n",
      "Epoch 29/100\n",
      "8655/8655 [==============================] - 1s 148us/sample - loss: 0.5000 - accuracy: 0.7976 - val_loss: 0.5044 - val_accuracy: 0.7883\n",
      "Epoch 30/100\n",
      "8655/8655 [==============================] - 1s 148us/sample - loss: 0.4980 - accuracy: 0.7976 - val_loss: 0.5030 - val_accuracy: 0.7883\n",
      "Epoch 31/100\n",
      "8655/8655 [==============================] - 1s 148us/sample - loss: 0.4973 - accuracy: 0.7976 - val_loss: 0.5015 - val_accuracy: 0.7883\n",
      "Epoch 32/100\n",
      "8655/8655 [==============================] - 1s 147us/sample - loss: 0.4932 - accuracy: 0.7976 - val_loss: 0.4999 - val_accuracy: 0.7883\n",
      "Epoch 33/100\n",
      "8655/8655 [==============================] - 1s 148us/sample - loss: 0.4928 - accuracy: 0.7976 - val_loss: 0.4982 - val_accuracy: 0.7883\n",
      "Epoch 34/100\n",
      "8655/8655 [==============================] - 1s 150us/sample - loss: 0.4903 - accuracy: 0.7976 - val_loss: 0.4964 - val_accuracy: 0.7883\n",
      "Epoch 35/100\n",
      "8655/8655 [==============================] - 1s 156us/sample - loss: 0.4883 - accuracy: 0.7976 - val_loss: 0.4945 - val_accuracy: 0.7883\n",
      "Epoch 36/100\n",
      "8655/8655 [==============================] - 1s 148us/sample - loss: 0.4873 - accuracy: 0.7976 - val_loss: 0.4924 - val_accuracy: 0.7883\n",
      "Epoch 37/100\n",
      "8655/8655 [==============================] - 1s 156us/sample - loss: 0.4848 - accuracy: 0.7976 - val_loss: 0.4902 - val_accuracy: 0.7883\n",
      "Epoch 38/100\n",
      "8655/8655 [==============================] - 1s 158us/sample - loss: 0.4829 - accuracy: 0.7976 - val_loss: 0.4879 - val_accuracy: 0.7883\n",
      "Epoch 39/100\n",
      "8655/8655 [==============================] - 1s 156us/sample - loss: 0.4804 - accuracy: 0.7976 - val_loss: 0.4853 - val_accuracy: 0.7883\n",
      "Epoch 40/100\n",
      "8655/8655 [==============================] - 1s 155us/sample - loss: 0.4779 - accuracy: 0.7976 - val_loss: 0.4827 - val_accuracy: 0.7883\n",
      "Epoch 41/100\n",
      "8655/8655 [==============================] - 1s 149us/sample - loss: 0.4761 - accuracy: 0.7976 - val_loss: 0.4798 - val_accuracy: 0.7883\n",
      "Epoch 42/100\n",
      "8655/8655 [==============================] - 1s 161us/sample - loss: 0.4727 - accuracy: 0.7976 - val_loss: 0.4767 - val_accuracy: 0.7883\n",
      "Epoch 43/100\n",
      "8655/8655 [==============================] - 1s 154us/sample - loss: 0.4692 - accuracy: 0.7976 - val_loss: 0.4734 - val_accuracy: 0.7883\n",
      "Epoch 44/100\n",
      "8655/8655 [==============================] - 1s 157us/sample - loss: 0.4649 - accuracy: 0.7976 - val_loss: 0.4700 - val_accuracy: 0.7883\n",
      "Epoch 45/100\n",
      "8655/8655 [==============================] - 1s 164us/sample - loss: 0.4617 - accuracy: 0.7976 - val_loss: 0.4662 - val_accuracy: 0.7883\n",
      "Epoch 46/100\n",
      "8655/8655 [==============================] - 1s 162us/sample - loss: 0.4594 - accuracy: 0.7976 - val_loss: 0.4622 - val_accuracy: 0.7883\n",
      "Epoch 47/100\n",
      "8655/8655 [==============================] - 1s 159us/sample - loss: 0.4544 - accuracy: 0.7977 - val_loss: 0.4573 - val_accuracy: 0.7883\n",
      "Epoch 48/100\n",
      "8655/8655 [==============================] - 1s 146us/sample - loss: 0.4499 - accuracy: 0.7976 - val_loss: 0.4524 - val_accuracy: 0.7883\n",
      "Epoch 49/100\n",
      "8655/8655 [==============================] - 1s 150us/sample - loss: 0.4445 - accuracy: 0.7976 - val_loss: 0.4475 - val_accuracy: 0.7883\n",
      "Epoch 50/100\n",
      "8655/8655 [==============================] - 1s 147us/sample - loss: 0.4377 - accuracy: 0.7977 - val_loss: 0.4423 - val_accuracy: 0.7883\n",
      "Epoch 51/100\n",
      "8655/8655 [==============================] - 2s 175us/sample - loss: 0.4327 - accuracy: 0.7983 - val_loss: 0.4371 - val_accuracy: 0.7883\n",
      "Epoch 52/100\n",
      "8655/8655 [==============================] - 1s 151us/sample - loss: 0.4266 - accuracy: 0.7979 - val_loss: 0.4318 - val_accuracy: 0.7883\n",
      "Epoch 53/100\n",
      "8655/8655 [==============================] - 1s 148us/sample - loss: 0.4240 - accuracy: 0.7990 - val_loss: 0.4264 - val_accuracy: 0.7883\n",
      "Epoch 54/100\n",
      "8655/8655 [==============================] - 1s 150us/sample - loss: 0.4203 - accuracy: 0.8005 - val_loss: 0.4207 - val_accuracy: 0.7893\n",
      "Epoch 55/100\n"
     ]
    },
    {
     "name": "stdout",
     "output_type": "stream",
     "text": [
      "8655/8655 [==============================] - 1s 147us/sample - loss: 0.4121 - accuracy: 0.8036 - val_loss: 0.4149 - val_accuracy: 0.7900\n",
      "Epoch 56/100\n",
      "8655/8655 [==============================] - ETA: 0s - loss: 0.4060 - accuracy: 0.80 - 1s 140us/sample - loss: 0.4066 - accuracy: 0.8037 - val_loss: 0.4090 - val_accuracy: 0.7945\n",
      "Epoch 57/100\n",
      "8655/8655 [==============================] - 1s 143us/sample - loss: 0.3991 - accuracy: 0.8137 - val_loss: 0.4035 - val_accuracy: 0.7976\n",
      "Epoch 58/100\n",
      "8655/8655 [==============================] - 1s 145us/sample - loss: 0.3946 - accuracy: 0.8159 - val_loss: 0.3983 - val_accuracy: 0.8056\n",
      "Epoch 59/100\n",
      "8655/8655 [==============================] - 1s 149us/sample - loss: 0.3897 - accuracy: 0.8239 - val_loss: 0.3932 - val_accuracy: 0.8139\n",
      "Epoch 60/100\n",
      "8655/8655 [==============================] - 1s 144us/sample - loss: 0.3840 - accuracy: 0.8297 - val_loss: 0.3882 - val_accuracy: 0.8247\n",
      "Epoch 61/100\n",
      "8655/8655 [==============================] - 1s 145us/sample - loss: 0.3791 - accuracy: 0.8391 - val_loss: 0.3836 - val_accuracy: 0.8274\n",
      "Epoch 62/100\n",
      "8655/8655 [==============================] - 1s 144us/sample - loss: 0.3752 - accuracy: 0.8421 - val_loss: 0.3791 - val_accuracy: 0.8378\n",
      "Epoch 63/100\n",
      "8655/8655 [==============================] - 1s 147us/sample - loss: 0.3724 - accuracy: 0.8453 - val_loss: 0.3749 - val_accuracy: 0.8507\n",
      "Epoch 64/100\n",
      "8655/8655 [==============================] - 1s 143us/sample - loss: 0.3680 - accuracy: 0.8530 - val_loss: 0.3708 - val_accuracy: 0.8565\n",
      "Epoch 65/100\n",
      "8655/8655 [==============================] - 1s 144us/sample - loss: 0.3624 - accuracy: 0.8641 - val_loss: 0.3671 - val_accuracy: 0.8579\n",
      "Epoch 66/100\n",
      "8655/8655 [==============================] - 1s 143us/sample - loss: 0.3592 - accuracy: 0.8627 - val_loss: 0.3635 - val_accuracy: 0.8652\n",
      "Epoch 67/100\n",
      "8655/8655 [==============================] - 1s 144us/sample - loss: 0.3560 - accuracy: 0.8674 - val_loss: 0.3604 - val_accuracy: 0.8628\n",
      "Epoch 68/100\n",
      "8655/8655 [==============================] - 1s 144us/sample - loss: 0.3495 - accuracy: 0.8683 - val_loss: 0.3570 - val_accuracy: 0.8728\n",
      "Epoch 69/100\n",
      "8655/8655 [==============================] - 1s 147us/sample - loss: 0.3471 - accuracy: 0.8727 - val_loss: 0.3540 - val_accuracy: 0.8746\n",
      "Epoch 70/100\n",
      "8655/8655 [==============================] - 1s 144us/sample - loss: 0.3434 - accuracy: 0.8743 - val_loss: 0.3511 - val_accuracy: 0.8784\n",
      "Epoch 71/100\n",
      "8655/8655 [==============================] - 1s 146us/sample - loss: 0.3397 - accuracy: 0.8757 - val_loss: 0.3484 - val_accuracy: 0.8798\n",
      "Epoch 72/100\n",
      "8655/8655 [==============================] - 1s 145us/sample - loss: 0.3376 - accuracy: 0.8789 - val_loss: 0.3457 - val_accuracy: 0.8825\n",
      "Epoch 73/100\n",
      "8655/8655 [==============================] - 1s 144us/sample - loss: 0.3363 - accuracy: 0.8826 - val_loss: 0.3432 - val_accuracy: 0.8860\n",
      "Epoch 74/100\n",
      "8655/8655 [==============================] - 1s 147us/sample - loss: 0.3338 - accuracy: 0.8830 - val_loss: 0.3410 - val_accuracy: 0.8853\n",
      "Epoch 75/100\n",
      "8655/8655 [==============================] - 1s 146us/sample - loss: 0.3286 - accuracy: 0.8854 - val_loss: 0.3387 - val_accuracy: 0.8860\n",
      "Epoch 76/100\n",
      "8655/8655 [==============================] - 1s 144us/sample - loss: 0.3268 - accuracy: 0.8860 - val_loss: 0.3369 - val_accuracy: 0.8850\n",
      "Epoch 77/100\n",
      "8655/8655 [==============================] - 1s 147us/sample - loss: 0.3253 - accuracy: 0.8828 - val_loss: 0.3343 - val_accuracy: 0.8870\n",
      "Epoch 78/100\n",
      "8655/8655 [==============================] - 1s 146us/sample - loss: 0.3233 - accuracy: 0.8867 - val_loss: 0.3323 - val_accuracy: 0.8877\n",
      "Epoch 79/100\n",
      "8655/8655 [==============================] - 1s 146us/sample - loss: 0.3183 - accuracy: 0.8912 - val_loss: 0.3305 - val_accuracy: 0.8874\n",
      "Epoch 80/100\n",
      "8655/8655 [==============================] - 1s 144us/sample - loss: 0.3181 - accuracy: 0.8899 - val_loss: 0.3284 - val_accuracy: 0.8884\n",
      "Epoch 81/100\n",
      "8655/8655 [==============================] - 1s 150us/sample - loss: 0.3174 - accuracy: 0.8885 - val_loss: 0.3266 - val_accuracy: 0.8905\n",
      "Epoch 82/100\n",
      "8655/8655 [==============================] - 1s 156us/sample - loss: 0.3152 - accuracy: 0.8922 - val_loss: 0.3248 - val_accuracy: 0.8905\n",
      "Epoch 83/100\n",
      "8655/8655 [==============================] - 1s 144us/sample - loss: 0.3102 - accuracy: 0.8939 - val_loss: 0.3230 - val_accuracy: 0.8912\n",
      "Epoch 84/100\n",
      "8655/8655 [==============================] - 1s 147us/sample - loss: 0.3081 - accuracy: 0.8971 - val_loss: 0.3212 - val_accuracy: 0.8909\n",
      "Epoch 85/100\n",
      "8655/8655 [==============================] - 1s 146us/sample - loss: 0.3055 - accuracy: 0.8973 - val_loss: 0.3197 - val_accuracy: 0.8909\n",
      "Epoch 86/100\n",
      "8655/8655 [==============================] - 1s 154us/sample - loss: 0.3076 - accuracy: 0.8949 - val_loss: 0.3179 - val_accuracy: 0.8940\n",
      "Epoch 87/100\n",
      "8655/8655 [==============================] - 1s 165us/sample - loss: 0.3027 - accuracy: 0.8994 - val_loss: 0.3165 - val_accuracy: 0.8922\n",
      "Epoch 88/100\n",
      "8655/8655 [==============================] - 1s 149us/sample - loss: 0.2991 - accuracy: 0.9028 - val_loss: 0.3148 - val_accuracy: 0.8940\n",
      "Epoch 89/100\n",
      "8655/8655 [==============================] - 1s 132us/sample - loss: 0.3002 - accuracy: 0.8983 - val_loss: 0.3132 - val_accuracy: 0.8974\n",
      "Epoch 90/100\n",
      "8655/8655 [==============================] - 1s 132us/sample - loss: 0.2958 - accuracy: 0.9012 - val_loss: 0.3116 - val_accuracy: 0.8985\n",
      "Epoch 91/100\n",
      "8655/8655 [==============================] - 1s 135us/sample - loss: 0.2953 - accuracy: 0.9012 - val_loss: 0.3101 - val_accuracy: 0.8995\n",
      "Epoch 92/100\n",
      "8655/8655 [==============================] - 1s 131us/sample - loss: 0.2922 - accuracy: 0.9043 - val_loss: 0.3087 - val_accuracy: 0.8988\n",
      "Epoch 93/100\n",
      "8655/8655 [==============================] - 1s 134us/sample - loss: 0.2917 - accuracy: 0.9029 - val_loss: 0.3073 - val_accuracy: 0.9002\n",
      "Epoch 94/100\n",
      "8655/8655 [==============================] - 1s 149us/sample - loss: 0.2906 - accuracy: 0.9026 - val_loss: 0.3059 - val_accuracy: 0.8999\n",
      "Epoch 95/100\n",
      "8655/8655 [==============================] - 1s 139us/sample - loss: 0.2875 - accuracy: 0.9084 - val_loss: 0.3044 - val_accuracy: 0.9016\n",
      "Epoch 96/100\n",
      "8655/8655 [==============================] - 1s 132us/sample - loss: 0.2861 - accuracy: 0.9061 - val_loss: 0.3031 - val_accuracy: 0.9016\n",
      "Epoch 97/100\n",
      "8655/8655 [==============================] - 1s 130us/sample - loss: 0.2830 - accuracy: 0.9116 - val_loss: 0.3017 - val_accuracy: 0.9019\n",
      "Epoch 98/100\n",
      "8655/8655 [==============================] - 1s 132us/sample - loss: 0.2839 - accuracy: 0.9099 - val_loss: 0.3004 - val_accuracy: 0.9019\n",
      "Epoch 99/100\n",
      "8655/8655 [==============================] - 1s 132us/sample - loss: 0.2802 - accuracy: 0.9108 - val_loss: 0.2992 - val_accuracy: 0.9030\n",
      "Epoch 100/100\n",
      "8655/8655 [==============================] - 1s 135us/sample - loss: 0.2807 - accuracy: 0.9103 - val_loss: 0.2979 - val_accuracy: 0.9030\n"
     ]
    }
   ],
   "source": [
    "(opt_model,final_model)=compile_train_model(x_train,y_train,x_test,y_test)"
   ]
  },
  {
   "cell_type": "markdown",
   "metadata": {},
   "source": [
    "## Prediction"
   ]
  },
  {
   "cell_type": "code",
   "execution_count": 19,
   "metadata": {},
   "outputs": [],
   "source": [
    "y_pred=opt_model.predict(x_test)\n",
    "y_pred = (y_pred> 0.5)"
   ]
  },
  {
   "cell_type": "code",
   "execution_count": 20,
   "metadata": {},
   "outputs": [
    {
     "name": "stdout",
     "output_type": "stream",
     "text": [
      "8655/8655 [==============================] - 0s 48us/sample - loss: 0.2681 - accuracy: 0.9175\n",
      "2886/2886 [==============================] - 0s 49us/sample - loss: 0.2979 - accuracy: 0.9030\n",
      "[0.26806078645481946, 0.9175043] [0.2979303887133291, 0.9029799]\n"
     ]
    }
   ],
   "source": [
    "#Model Evaluation\n",
    "train_acc = opt_model.evaluate(x_train, y_train)\n",
    "test_acc = opt_model.evaluate(x_test,y_test)\n",
    "print(train_acc, test_acc)"
   ]
  },
  {
   "cell_type": "markdown",
   "metadata": {},
   "source": [
    "### Use OOPs concept to implement inference"
   ]
  },
  {
   "cell_type": "code",
   "execution_count": 21,
   "metadata": {},
   "outputs": [],
   "source": [
    "class Metrics:\n",
    "  def __init__(self,test_label, Predicted_label):\n",
    "    self.test_label=test_label\n",
    "    self.Predicted_label=Predicted_label\n",
    "  def ConfusionMatrix(self,test_label,Predicted_label):\n",
    "    cm=confusion_matrix(test_label,Predicted_label)\n",
    "    return cm\n",
    "    acc=accuracy_score(test_label,Predicted_label)\n",
    "  def Report(self,test_label,Predicted_label):\n",
    "    report = classification_report(test_label, Predicted_label)\n",
    "    return report"
   ]
  },
  {
   "cell_type": "code",
   "execution_count": 22,
   "metadata": {},
   "outputs": [],
   "source": [
    "Inference=Metrics(y_test, y_pred)"
   ]
  },
  {
   "cell_type": "code",
   "execution_count": 23,
   "metadata": {},
   "outputs": [
    {
     "name": "stdout",
     "output_type": "stream",
     "text": [
      "[[2218   57]\n",
      " [ 223  388]]\n"
     ]
    }
   ],
   "source": [
    "print(Inference.ConfusionMatrix(y_test,y_pred))"
   ]
  },
  {
   "cell_type": "code",
   "execution_count": 24,
   "metadata": {},
   "outputs": [
    {
     "name": "stdout",
     "output_type": "stream",
     "text": [
      "              precision    recall  f1-score   support\n",
      "\n",
      "           0       0.91      0.97      0.94      2275\n",
      "           1       0.87      0.64      0.73       611\n",
      "\n",
      "    accuracy                           0.90      2886\n",
      "   macro avg       0.89      0.80      0.84      2886\n",
      "weighted avg       0.90      0.90      0.90      2886\n",
      "\n"
     ]
    }
   ],
   "source": [
    "print(Inference.Report(y_test,y_pred))"
   ]
  },
  {
   "cell_type": "markdown",
   "metadata": {},
   "source": [
    "## Data Visualization"
   ]
  },
  {
   "cell_type": "code",
   "execution_count": 26,
   "metadata": {},
   "outputs": [],
   "source": [
    "loss_train = final_model.history['loss']\n",
    "loss_val = final_model.history['val_loss']\n",
    "epochs=range(len(loss_train)) \n",
    "\n",
    "def plot_loss(training_loss,testing_loss):    \n",
    "\n",
    "    plt.plot(epochs, training_loss, 'g', label='Training loss')\n",
    "    plt.plot(epochs, testing_loss, 'b', label='validation loss')\n",
    "    plt.title('Training and Validation loss')\n",
    "    plt.xlabel('Epochs')\n",
    "    plt.ylabel('Loss')\n",
    "    plt.legend()\n",
    "    plt.grid(True)\n",
    "    plt.show()"
   ]
  },
  {
   "cell_type": "code",
   "execution_count": 27,
   "metadata": {},
   "outputs": [
    {
     "data": {
      "image/png": "[encoded data removed]",
      "text/plain": [
       "<Figure size 720x432 with 1 Axes>"
      ]
     },
     "metadata": {
      "needs_background": "light"
     },
     "output_type": "display_data"
    }
   ],
   "source": [
    "plt.figure(figsize=(10,6))\n",
    "plot_loss(loss_train,loss_val)"
   ]
  },
  {
   "cell_type": "code",
   "execution_count": 28,
   "metadata": {},
   "outputs": [],
   "source": [
    "acc_train = final_model.history['accuracy']\n",
    "acc_val = final_model.history['val_accuracy']\n",
    "\n",
    "\n",
    "def plot_accuracy(training_acc,testing_acc):    \n",
    "\n",
    "    plt.plot(epochs, training_acc, 'g', label='Training Accuracy')\n",
    "    plt.plot(epochs, testing_acc, 'b', label='validation Accuracy')\n",
    "    plt.title('Training and Validation Accuracy')\n",
    "    plt.xlabel('Epochs')\n",
    "    plt.ylabel('Accuracy')\n",
    "    plt.legend()\n",
    "    plt.grid(True)\n",
    "    plt.show()"
   ]
  },
  {
   "cell_type": "code",
   "execution_count": 29,
   "metadata": {},
   "outputs": [
    {
     "data": {
      "image/png": "[encoded data removed]",
      "text/plain": [
       "<Figure size 720x432 with 1 Axes>"
      ]
     },
     "metadata": {
      "needs_background": "light"
     },
     "output_type": "display_data"
    }
   ],
   "source": [
    "plt.figure(figsize=(10,6))\n",
    "plot_accuracy(acc_train,acc_val)"
   ]
  },
  {
   "cell_type": "markdown",
   "metadata": {},
   "source": [
    "## Pickle"
   ]
  },
  {
   "cell_type": "code",
   "execution_count": 30,
   "metadata": {},
   "outputs": [
    {
     "name": "stdout",
     "output_type": "stream",
     "text": [
      "WARNING:tensorflow:From C:\\Users\\Lenovo\\anaconda3\\envs\\Deep Learning\\lib\\site-packages\\tensorflow_core\\python\\ops\\resource_variable_ops.py:1786: calling BaseResourceVariable.__init__ (from tensorflow.python.ops.resource_variable_ops) with constraint is deprecated and will be removed in a future version.\n",
      "Instructions for updating:\n",
      "If using Keras pass *_constraint arguments to layers.\n",
      "INFO:tensorflow:Assets written to: model.h10\\assets\n",
      "Saved model to disk\n"
     ]
    }
   ],
   "source": [
    "opt_model.save(\"model.h10\")\n",
    "print(\"Saved model to disk\")"
   ]
  },
  {
   "cell_type": "code",
   "execution_count": 31,
   "metadata": {},
   "outputs": [],
   "source": [
    "Airplane_reviews = tf.keras.models.load_model('model.h10')"
   ]
  }
 ],
 "metadata": {
  "kernelspec": {
   "display_name": "Python 3",
   "language": "python",
   "name": "python3"
  },
  "language_info": {
   "codemirror_mode": {
    "name": "ipython",
    "version": 3
   },
   "file_extension": ".py",
   "mimetype": "text/x-python",
   "name": "python",
   "nbconvert_exporter": "python",
   "pygments_lexer": "ipython3",
   "version": "3.7.9"
  }
 },
 "nbformat": 4,
 "nbformat_minor": 4
}
