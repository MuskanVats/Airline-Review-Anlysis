{
 "cells": [
  {
   "cell_type": "markdown",
   "metadata": {},
   "source": [
    "# EntHire Internship Project"
   ]
  },
  {
   "cell_type": "markdown",
   "metadata": {},
   "source": [
    "## Importing libraries"
   ]
  },
  {
   "cell_type": "code",
   "execution_count": 1,
   "metadata": {},
   "outputs": [
    {
     "name": "stderr",
     "output_type": "stream",
     "text": [
      "Using TensorFlow backend.\n"
     ]
    }
   ],
   "source": [
    "#For reading dataset and working with arrays\n",
    "import numpy as np\n",
    "import pandas as pd\n",
    "\n",
    "#For data preprocessing, train-test split and metrics\n",
    "from sklearn.preprocessing import LabelEncoder,OneHotEncoder\n",
    "from sklearn.model_selection import train_test_split\n",
    "from sklearn.metrics import classification_report\n",
    "from sklearn.metrics import confusion_matrix, accuracy_score\n",
    "\n",
    "#For Deep Learning\n",
    "import tensorflow as tf\n",
    "from tensorflow.keras.preprocessing.text import Tokenizer\n",
    "from tensorflow.keras.preprocessing.sequence import pad_sequences\n",
    "from keras.regularizers import l2\n",
    "\n",
    "#For data visualization\n",
    "import matplotlib.pyplot as plt\n",
    "\n",
    "#For API\n",
    "from wsgiref.simple_server import make_server\n",
    "from pyramid.config import Configurator\n",
    "from pyramid.response import Response"
   ]
  },
  {
   "cell_type": "markdown",
   "metadata": {},
   "source": [
    "## Reading the data"
   ]
  },
  {
   "cell_type": "code",
   "execution_count": 2,
   "metadata": {},
   "outputs": [],
   "source": [
    "Airline=pd.read_csv(\"airline_sentiment_analysis.csv\")"
   ]
  },
  {
   "cell_type": "markdown",
   "metadata": {},
   "source": [
    "## Data Preprocessing"
   ]
  },
  {
   "cell_type": "code",
   "execution_count": 3,
   "metadata": {},
   "outputs": [],
   "source": [
    "Airline=Airline.loc[:,::-1]"
   ]
  },
  {
   "cell_type": "code",
   "execution_count": 4,
   "metadata": {},
   "outputs": [],
   "source": [
    "Airline=Airline.iloc[:,0:2].values"
   ]
  },
  {
   "cell_type": "code",
   "execution_count": 5,
   "metadata": {},
   "outputs": [],
   "source": [
    "#To work with categorical variable:reviews \n",
    "labelencoder=LabelEncoder()\n",
    "Airline[:,1]=labelencoder.fit_transform(Airline[:,1])"
   ]
  },
  {
   "cell_type": "markdown",
   "metadata": {},
   "source": [
    "## Splitting the train and test set"
   ]
  },
  {
   "cell_type": "code",
   "execution_count": 6,
   "metadata": {},
   "outputs": [],
   "source": [
    "train_data,test_data=train_test_split(Airline, test_size=0.25,random_state=0)"
   ]
  },
  {
   "cell_type": "markdown",
   "metadata": {},
   "source": [
    "### Use OOPs concept to load training data"
   ]
  },
  {
   "cell_type": "code",
   "execution_count": 7,
   "metadata": {},
   "outputs": [],
   "source": [
    "vocab_size = 10000\n",
    "embedding_dim = 16\n",
    "max_length = 120\n",
    "trunc_type='post'\n",
    "oov_tok = \"<OOV>\""
   ]
  },
  {
   "cell_type": "code",
   "execution_count": 8,
   "metadata": {},
   "outputs": [],
   "source": [
    "class data_load:\n",
    "    def __init__(self, train_data, test_data):\n",
    "        self.train_data=train_data\n",
    "        self.test_data=test_data\n",
    "   \n",
    "    \n",
    "    def Labels(self,train_data,test_data):\n",
    "        \n",
    "        training_sentences=[]\n",
    "        training_labels=[]\n",
    "\n",
    "        testing_sentences=[]\n",
    "        testing_labels=[]\n",
    "\n",
    "        for s,l in train_data:\n",
    "          training_sentences.append(s)\n",
    "          training_labels.append(l)\n",
    "\n",
    "        for s,l in test_data:\n",
    "          testing_sentences.append(s)\n",
    "          testing_labels.append(l)\n",
    "            \n",
    "        y_train=np.array(training_labels)\n",
    "        y_test=np.array(testing_labels)\n",
    "        \n",
    "        self.training_sentences=training_sentences\n",
    "        self.testing_sentences=testing_sentences\n",
    "        \n",
    "        return (y_train,y_test)\n",
    "        \n",
    "    def Predictors(self,vocab_size,maxlen,truncating='post'):\n",
    "        tokenizer=Tokenizer(num_words=vocab_size, oov_token=oov_tok)\n",
    "        tokenizer.fit_on_texts(self.training_sentences)\n",
    "        \n",
    "        word_index=tokenizer.word_index\n",
    "        self.word_index=word_index\n",
    "\n",
    "        #For training data\n",
    "        sequences=tokenizer.texts_to_sequences(self.training_sentences)\n",
    "        x_train=pad_sequences(sequences,maxlen=max_length,truncating=trunc_type)\n",
    "\n",
    "        #For testing data\n",
    "        testing_sequences=tokenizer.texts_to_sequences(self.testing_sentences)\n",
    "        x_test = pad_sequences(testing_sequences,maxlen=max_length,truncating=trunc_type)\n",
    "        return (x_train,x_test)\n",
    "    \n",
    "    #Reverse the word index key-value pair    \n",
    "    def decode_review(self,text):\n",
    "        reverse_word_index= dict([(value,key) for(key, value) in self.word_index.items()])\n",
    "        return \" \".join([reverse_word_index.get(i,\"?\") for i in text])"
   ]
  },
  {
   "cell_type": "code",
   "execution_count": 9,
   "metadata": {},
   "outputs": [],
   "source": [
    "Data=data_load(train_data,test_data)"
   ]
  },
  {
   "cell_type": "code",
   "execution_count": 10,
   "metadata": {},
   "outputs": [],
   "source": [
    "(y_train,y_test)=Data.Labels(train_data,test_data)"
   ]
  },
  {
   "cell_type": "code",
   "execution_count": 11,
   "metadata": {},
   "outputs": [],
   "source": [
    "(x_train, x_test)=Data.Predictors(vocab_size,max_length)"
   ]
  },
  {
   "cell_type": "markdown",
   "metadata": {},
   "source": [
    "# Creating model"
   ]
  },
  {
   "cell_type": "markdown",
   "metadata": {},
   "source": [
    "### Use OOPs concept to train the model"
   ]
  },
  {
   "cell_type": "code",
   "execution_count": 27,
   "metadata": {},
   "outputs": [],
   "source": [
    "tf.keras.backend.clear_session()\n",
    "class build_model:\n",
    "   def __init__(self,x_train,y_train,x_test,y_test,callbacks=None, epochs=10):\n",
    "    self.x_train=x_train\n",
    "    self.y_train=y_train\n",
    "    self.x_test=x_test\n",
    "    self.y_test=y_test\n",
    "    \n",
    "   def layers(self, vocab_size,embedding_dim,num_epochs,max_length):\n",
    "    lr_schedule = tf.keras.callbacks.LearningRateScheduler(\n",
    "    lambda epoch: 1e-7* 10**(epoch / 20))\n",
    "    \n",
    "    opt = tf.keras.optimizers.Adam(learning_rate=1e-7)\n",
    "    \n",
    "    model = tf.keras.Sequential([\n",
    "    tf.keras.layers.Embedding(vocab_size, embedding_dim, input_length=max_length),\n",
    "    tf.keras.layers.GlobalAveragePooling1D(),\n",
    "    tf.keras.layers.Dense(24, activation='relu'),\n",
    "    tf.keras.layers.Dense(1, activation='sigmoid')\n",
    "    ])\n",
    "    model.compile(loss='binary_crossentropy',optimizer=opt,metrics=['accuracy'])\n",
    "    history = model.fit(self.x_train, self.y_train, epochs=num_epochs, validation_data=(self.x_test, self.y_test), \n",
    "                        verbose=2,callbacks=[lr_schedule])\n",
    "    return history,model"
   ]
  },
  {
   "cell_type": "code",
   "execution_count": 28,
   "metadata": {},
   "outputs": [],
   "source": [
    "base_model=build_model(x_train,y_train,x_test,y_test)"
   ]
  },
  {
   "cell_type": "code",
   "execution_count": 29,
   "metadata": {},
   "outputs": [
    {
     "name": "stdout",
     "output_type": "stream",
     "text": [
      "Train on 8655 samples, validate on 2886 samples\n",
      "Epoch 1/100\n",
      "8655/8655 - 3s - loss: 0.6964 - accuracy: 0.2024 - val_loss: 0.6963 - val_accuracy: 0.2117\n",
      "Epoch 2/100\n",
      "8655/8655 - 1s - loss: 0.6964 - accuracy: 0.2024 - val_loss: 0.6963 - val_accuracy: 0.2117\n",
      "Epoch 3/100\n",
      "8655/8655 - 1s - loss: 0.6963 - accuracy: 0.2024 - val_loss: 0.6962 - val_accuracy: 0.2117\n",
      "Epoch 4/100\n",
      "8655/8655 - 2s - loss: 0.6963 - accuracy: 0.2024 - val_loss: 0.6962 - val_accuracy: 0.2117\n",
      "Epoch 5/100\n",
      "8655/8655 - 1s - loss: 0.6962 - accuracy: 0.2024 - val_loss: 0.6961 - val_accuracy: 0.2117\n",
      "Epoch 6/100\n",
      "8655/8655 - 1s - loss: 0.6962 - accuracy: 0.2024 - val_loss: 0.6960 - val_accuracy: 0.2117\n",
      "Epoch 7/100\n",
      "8655/8655 - 1s - loss: 0.6961 - accuracy: 0.2024 - val_loss: 0.6960 - val_accuracy: 0.2117\n",
      "Epoch 8/100\n",
      "8655/8655 - 1s - loss: 0.6960 - accuracy: 0.2024 - val_loss: 0.6959 - val_accuracy: 0.2117\n",
      "Epoch 9/100\n",
      "8655/8655 - 1s - loss: 0.6959 - accuracy: 0.2024 - val_loss: 0.6958 - val_accuracy: 0.2117\n",
      "Epoch 10/100\n",
      "8655/8655 - 1s - loss: 0.6958 - accuracy: 0.2024 - val_loss: 0.6957 - val_accuracy: 0.2117\n",
      "Epoch 11/100\n",
      "8655/8655 - 1s - loss: 0.6957 - accuracy: 0.2024 - val_loss: 0.6956 - val_accuracy: 0.2117\n",
      "Epoch 12/100\n",
      "8655/8655 - 1s - loss: 0.6956 - accuracy: 0.2024 - val_loss: 0.6954 - val_accuracy: 0.2117\n",
      "Epoch 13/100\n",
      "8655/8655 - 1s - loss: 0.6954 - accuracy: 0.2024 - val_loss: 0.6953 - val_accuracy: 0.2117\n",
      "Epoch 14/100\n",
      "8655/8655 - 1s - loss: 0.6953 - accuracy: 0.2024 - val_loss: 0.6951 - val_accuracy: 0.2117\n",
      "Epoch 15/100\n",
      "8655/8655 - 1s - loss: 0.6951 - accuracy: 0.2024 - val_loss: 0.6949 - val_accuracy: 0.2117\n",
      "Epoch 16/100\n",
      "8655/8655 - 1s - loss: 0.6949 - accuracy: 0.2024 - val_loss: 0.6947 - val_accuracy: 0.2117\n",
      "Epoch 17/100\n",
      "8655/8655 - 1s - loss: 0.6947 - accuracy: 0.2024 - val_loss: 0.6945 - val_accuracy: 0.2117\n",
      "Epoch 18/100\n",
      "8655/8655 - 1s - loss: 0.6944 - accuracy: 0.2024 - val_loss: 0.6943 - val_accuracy: 0.2117\n",
      "Epoch 19/100\n",
      "8655/8655 - 1s - loss: 0.6942 - accuracy: 0.2024 - val_loss: 0.6940 - val_accuracy: 0.2117\n",
      "Epoch 20/100\n",
      "8655/8655 - 1s - loss: 0.6939 - accuracy: 0.2034 - val_loss: 0.6937 - val_accuracy: 0.2145\n",
      "Epoch 21/100\n",
      "8655/8655 - 1s - loss: 0.6935 - accuracy: 0.2324 - val_loss: 0.6933 - val_accuracy: 0.2990\n",
      "Epoch 22/100\n",
      "8655/8655 - 1s - loss: 0.6932 - accuracy: 0.4849 - val_loss: 0.6930 - val_accuracy: 0.6871\n",
      "Epoch 23/100\n",
      "8655/8655 - 1s - loss: 0.6927 - accuracy: 0.7780 - val_loss: 0.6925 - val_accuracy: 0.7879\n",
      "Epoch 24/100\n",
      "8655/8655 - 1s - loss: 0.6923 - accuracy: 0.7976 - val_loss: 0.6921 - val_accuracy: 0.7883\n",
      "Epoch 25/100\n",
      "8655/8655 - 1s - loss: 0.6918 - accuracy: 0.7976 - val_loss: 0.6916 - val_accuracy: 0.7883\n",
      "Epoch 26/100\n",
      "8655/8655 - 1s - loss: 0.6912 - accuracy: 0.7976 - val_loss: 0.6910 - val_accuracy: 0.7883\n",
      "Epoch 27/100\n",
      "8655/8655 - 1s - loss: 0.6906 - accuracy: 0.7976 - val_loss: 0.6903 - val_accuracy: 0.7883\n",
      "Epoch 28/100\n",
      "8655/8655 - 1s - loss: 0.6899 - accuracy: 0.7976 - val_loss: 0.6896 - val_accuracy: 0.7883\n",
      "Epoch 29/100\n",
      "8655/8655 - 1s - loss: 0.6891 - accuracy: 0.7976 - val_loss: 0.6888 - val_accuracy: 0.7883\n",
      "Epoch 30/100\n",
      "8655/8655 - 1s - loss: 0.6882 - accuracy: 0.7976 - val_loss: 0.6879 - val_accuracy: 0.7883\n",
      "Epoch 31/100\n",
      "8655/8655 - 1s - loss: 0.6872 - accuracy: 0.7976 - val_loss: 0.6868 - val_accuracy: 0.7883\n",
      "Epoch 32/100\n",
      "8655/8655 - 1s - loss: 0.6860 - accuracy: 0.7976 - val_loss: 0.6857 - val_accuracy: 0.7883\n",
      "Epoch 33/100\n",
      "8655/8655 - 1s - loss: 0.6848 - accuracy: 0.7976 - val_loss: 0.6844 - val_accuracy: 0.7883\n",
      "Epoch 34/100\n",
      "8655/8655 - 1s - loss: 0.6834 - accuracy: 0.7976 - val_loss: 0.6831 - val_accuracy: 0.7883\n",
      "Epoch 35/100\n",
      "8655/8655 - 1s - loss: 0.6820 - accuracy: 0.7976 - val_loss: 0.6817 - val_accuracy: 0.7883\n",
      "Epoch 36/100\n",
      "8655/8655 - 1s - loss: 0.6805 - accuracy: 0.7976 - val_loss: 0.6801 - val_accuracy: 0.7883\n",
      "Epoch 37/100\n",
      "8655/8655 - 1s - loss: 0.6787 - accuracy: 0.7976 - val_loss: 0.6782 - val_accuracy: 0.7883\n",
      "Epoch 38/100\n",
      "8655/8655 - 1s - loss: 0.6766 - accuracy: 0.7976 - val_loss: 0.6761 - val_accuracy: 0.7883\n",
      "Epoch 39/100\n",
      "8655/8655 - 1s - loss: 0.6744 - accuracy: 0.7976 - val_loss: 0.6739 - val_accuracy: 0.7883\n",
      "Epoch 40/100\n",
      "8655/8655 - 1s - loss: 0.6719 - accuracy: 0.7976 - val_loss: 0.6713 - val_accuracy: 0.7883\n",
      "Epoch 41/100\n",
      "8655/8655 - 1s - loss: 0.6690 - accuracy: 0.7976 - val_loss: 0.6683 - val_accuracy: 0.7883\n",
      "Epoch 42/100\n",
      "8655/8655 - 1s - loss: 0.6657 - accuracy: 0.7976 - val_loss: 0.6649 - val_accuracy: 0.7883\n",
      "Epoch 43/100\n",
      "8655/8655 - 1s - loss: 0.6619 - accuracy: 0.7976 - val_loss: 0.6610 - val_accuracy: 0.7883\n",
      "Epoch 44/100\n",
      "8655/8655 - 1s - loss: 0.6576 - accuracy: 0.7976 - val_loss: 0.6565 - val_accuracy: 0.7883\n",
      "Epoch 45/100\n",
      "8655/8655 - 2s - loss: 0.6525 - accuracy: 0.7976 - val_loss: 0.6512 - val_accuracy: 0.7883\n",
      "Epoch 46/100\n",
      "8655/8655 - 2s - loss: 0.6466 - accuracy: 0.7976 - val_loss: 0.6451 - val_accuracy: 0.7883\n",
      "Epoch 47/100\n",
      "8655/8655 - 2s - loss: 0.6396 - accuracy: 0.7976 - val_loss: 0.6378 - val_accuracy: 0.7883\n",
      "Epoch 48/100\n",
      "8655/8655 - 1s - loss: 0.6314 - accuracy: 0.7976 - val_loss: 0.6293 - val_accuracy: 0.7883\n",
      "Epoch 49/100\n",
      "8655/8655 - 1s - loss: 0.6218 - accuracy: 0.7976 - val_loss: 0.6194 - val_accuracy: 0.7883\n",
      "Epoch 50/100\n",
      "8655/8655 - 1s - loss: 0.6107 - accuracy: 0.7976 - val_loss: 0.6080 - val_accuracy: 0.7883\n",
      "Epoch 51/100\n",
      "8655/8655 - 1s - loss: 0.5978 - accuracy: 0.7976 - val_loss: 0.5949 - val_accuracy: 0.7883\n",
      "Epoch 52/100\n",
      "8655/8655 - 1s - loss: 0.5834 - accuracy: 0.7976 - val_loss: 0.5807 - val_accuracy: 0.7883\n",
      "Epoch 53/100\n",
      "8655/8655 - 2s - loss: 0.5678 - accuracy: 0.7976 - val_loss: 0.5656 - val_accuracy: 0.7883\n",
      "Epoch 54/100\n",
      "8655/8655 - 2s - loss: 0.5519 - accuracy: 0.7976 - val_loss: 0.5509 - val_accuracy: 0.7883\n",
      "Epoch 55/100\n",
      "8655/8655 - 2s - loss: 0.5367 - accuracy: 0.7976 - val_loss: 0.5378 - val_accuracy: 0.7883\n",
      "Epoch 56/100\n",
      "8655/8655 - 1s - loss: 0.5236 - accuracy: 0.7976 - val_loss: 0.5276 - val_accuracy: 0.7883\n",
      "Epoch 57/100\n",
      "8655/8655 - 1s - loss: 0.5139 - accuracy: 0.7976 - val_loss: 0.5209 - val_accuracy: 0.7883\n",
      "Epoch 58/100\n",
      "8655/8655 - 1s - loss: 0.5075 - accuracy: 0.7976 - val_loss: 0.5172 - val_accuracy: 0.7883\n",
      "Epoch 59/100\n",
      "8655/8655 - 1s - loss: 0.5040 - accuracy: 0.7976 - val_loss: 0.5154 - val_accuracy: 0.7883\n",
      "Epoch 60/100\n",
      "8655/8655 - 1s - loss: 0.5021 - accuracy: 0.7976 - val_loss: 0.5143 - val_accuracy: 0.7883\n",
      "Epoch 61/100\n",
      "8655/8655 - 1s - loss: 0.5007 - accuracy: 0.7976 - val_loss: 0.5131 - val_accuracy: 0.7883\n",
      "Epoch 62/100\n",
      "8655/8655 - 1s - loss: 0.4993 - accuracy: 0.7976 - val_loss: 0.5118 - val_accuracy: 0.7883\n",
      "Epoch 63/100\n",
      "8655/8655 - 1s - loss: 0.4977 - accuracy: 0.7976 - val_loss: 0.5101 - val_accuracy: 0.7883\n",
      "Epoch 64/100\n",
      "8655/8655 - 1s - loss: 0.4958 - accuracy: 0.7976 - val_loss: 0.5080 - val_accuracy: 0.7883\n",
      "Epoch 65/100\n",
      "8655/8655 - 1s - loss: 0.4935 - accuracy: 0.7976 - val_loss: 0.5055 - val_accuracy: 0.7883\n",
      "Epoch 66/100\n",
      "8655/8655 - 1s - loss: 0.4907 - accuracy: 0.7976 - val_loss: 0.5023 - val_accuracy: 0.7883\n",
      "Epoch 67/100\n",
      "8655/8655 - 1s - loss: 0.4871 - accuracy: 0.7976 - val_loss: 0.4979 - val_accuracy: 0.7883\n",
      "Epoch 68/100\n",
      "8655/8655 - 1s - loss: 0.4822 - accuracy: 0.7976 - val_loss: 0.4921 - val_accuracy: 0.7883\n",
      "Epoch 69/100\n",
      "8655/8655 - 1s - loss: 0.4755 - accuracy: 0.7976 - val_loss: 0.4841 - val_accuracy: 0.7883\n",
      "Epoch 70/100\n",
      "8655/8655 - 1s - loss: 0.4654 - accuracy: 0.7976 - val_loss: 0.4715 - val_accuracy: 0.7883\n",
      "Epoch 71/100\n",
      "8655/8655 - 1s - loss: 0.4490 - accuracy: 0.7976 - val_loss: 0.4478 - val_accuracy: 0.7883\n",
      "Epoch 72/100\n",
      "8655/8655 - 1s - loss: 0.4184 - accuracy: 0.7976 - val_loss: 0.4088 - val_accuracy: 0.7883\n",
      "Epoch 73/100\n",
      "8655/8655 - 1s - loss: 0.3730 - accuracy: 0.8109 - val_loss: 0.3618 - val_accuracy: 0.8500\n",
      "Epoch 74/100\n",
      "8655/8655 - 1s - loss: 0.3272 - accuracy: 0.8644 - val_loss: 0.3206 - val_accuracy: 0.8836\n",
      "Epoch 75/100\n",
      "8655/8655 - 1s - loss: 0.2872 - accuracy: 0.8921 - val_loss: 0.2892 - val_accuracy: 0.8902\n",
      "Epoch 76/100\n",
      "8655/8655 - 1s - loss: 0.2555 - accuracy: 0.9050 - val_loss: 0.2697 - val_accuracy: 0.8981\n",
      "Epoch 77/100\n",
      "8655/8655 - 1s - loss: 0.2282 - accuracy: 0.9166 - val_loss: 0.2474 - val_accuracy: 0.9078\n",
      "Epoch 78/100\n",
      "8655/8655 - 1s - loss: 0.2037 - accuracy: 0.9257 - val_loss: 0.2314 - val_accuracy: 0.9099\n",
      "Epoch 79/100\n",
      "8655/8655 - 1s - loss: 0.1814 - accuracy: 0.9354 - val_loss: 0.2188 - val_accuracy: 0.9165\n"
     ]
    },
    {
     "name": "stdout",
     "output_type": "stream",
     "text": [
      "Epoch 80/100\n",
      "8655/8655 - 2s - loss: 0.1626 - accuracy: 0.9395 - val_loss: 0.2109 - val_accuracy: 0.9175\n",
      "Epoch 81/100\n",
      "8655/8655 - 2s - loss: 0.1441 - accuracy: 0.9490 - val_loss: 0.1995 - val_accuracy: 0.9179\n",
      "Epoch 82/100\n",
      "8655/8655 - 2s - loss: 0.1285 - accuracy: 0.9546 - val_loss: 0.1946 - val_accuracy: 0.9248\n",
      "Epoch 83/100\n",
      "8655/8655 - 1s - loss: 0.1145 - accuracy: 0.9581 - val_loss: 0.1881 - val_accuracy: 0.9252\n",
      "Epoch 84/100\n",
      "8655/8655 - 1s - loss: 0.1029 - accuracy: 0.9629 - val_loss: 0.1895 - val_accuracy: 0.9255\n",
      "Epoch 85/100\n",
      "8655/8655 - 1s - loss: 0.0908 - accuracy: 0.9679 - val_loss: 0.1860 - val_accuracy: 0.9276\n",
      "Epoch 86/100\n",
      "8655/8655 - 1s - loss: 0.0787 - accuracy: 0.9728 - val_loss: 0.1911 - val_accuracy: 0.9304\n",
      "Epoch 87/100\n",
      "8655/8655 - 1s - loss: 0.0672 - accuracy: 0.9780 - val_loss: 0.1919 - val_accuracy: 0.9314\n",
      "Epoch 88/100\n",
      "8655/8655 - 2s - loss: 0.0598 - accuracy: 0.9807 - val_loss: 0.2002 - val_accuracy: 0.9293\n",
      "Epoch 89/100\n",
      "8655/8655 - 2s - loss: 0.0488 - accuracy: 0.9850 - val_loss: 0.2285 - val_accuracy: 0.9252\n",
      "Epoch 90/100\n",
      "8655/8655 - 2s - loss: 0.0402 - accuracy: 0.9879 - val_loss: 0.2169 - val_accuracy: 0.9324\n",
      "Epoch 91/100\n",
      "8655/8655 - 2s - loss: 0.0332 - accuracy: 0.9904 - val_loss: 0.2378 - val_accuracy: 0.9272\n",
      "Epoch 92/100\n",
      "8655/8655 - 2s - loss: 0.0265 - accuracy: 0.9933 - val_loss: 0.2505 - val_accuracy: 0.9262\n",
      "Epoch 93/100\n",
      "8655/8655 - 2s - loss: 0.0249 - accuracy: 0.9934 - val_loss: 0.3345 - val_accuracy: 0.9168\n",
      "Epoch 94/100\n",
      "8655/8655 - 2s - loss: 0.0233 - accuracy: 0.9920 - val_loss: 0.3196 - val_accuracy: 0.9220\n",
      "Epoch 95/100\n",
      "8655/8655 - 2s - loss: 0.0189 - accuracy: 0.9934 - val_loss: 0.3148 - val_accuracy: 0.9200\n",
      "Epoch 96/100\n",
      "8655/8655 - 2s - loss: 0.0141 - accuracy: 0.9954 - val_loss: 0.4275 - val_accuracy: 0.9116\n",
      "Epoch 97/100\n",
      "8655/8655 - 2s - loss: 0.0144 - accuracy: 0.9956 - val_loss: 0.3884 - val_accuracy: 0.9113\n",
      "Epoch 98/100\n",
      "8655/8655 - 1s - loss: 0.0172 - accuracy: 0.9940 - val_loss: 0.4082 - val_accuracy: 0.9120\n",
      "Epoch 99/100\n",
      "8655/8655 - 1s - loss: 0.0329 - accuracy: 0.9879 - val_loss: 0.4592 - val_accuracy: 0.9033\n",
      "Epoch 100/100\n",
      "8655/8655 - 1s - loss: 0.0233 - accuracy: 0.9918 - val_loss: 0.4285 - val_accuracy: 0.9148\n"
     ]
    }
   ],
   "source": [
    "(history,model)=base_model.layers(vocab_size,embedding_dim,100,max_length)"
   ]
  },
  {
   "cell_type": "code",
   "execution_count": 86,
   "metadata": {},
   "outputs": [
    {
     "data": {
      "text/plain": [
       "<Figure size 720x432 with 0 Axes>"
      ]
     },
     "execution_count": 86,
     "metadata": {},
     "output_type": "execute_result"
    },
    {
     "data": {
      "image/png": "[encoded data removed]",
      "text/plain": [
       "<Figure size 432x288 with 1 Axes>"
      ]
     },
     "metadata": {
      "needs_background": "light"
     },
     "output_type": "display_data"
    },
    {
     "data": {
      "text/plain": [
       "<Figure size 720x432 with 0 Axes>"
      ]
     },
     "metadata": {},
     "output_type": "display_data"
    }
   ],
   "source": [
    "# FROM THIS PICK A LEARNING RATE\n",
    "plt.semilogx(history.history[\"lr\"], history.history[\"loss\"])\n",
    "plt.axis([1e-7,1e-2, 0, 1])\n",
    "plt.xlabel(\"Learning Rate\")\n",
    "plt.ylabel(\"Loss\")"
   ]
  },
  {
   "cell_type": "markdown",
   "metadata": {},
   "source": [
    "### For overfitting: Introduce Dropout layer and L2 Regularizer "
   ]
  },
  {
   "cell_type": "markdown",
   "metadata": {},
   "source": [
    "### For Hyper parameter tuning: Learning Rate Optimization"
   ]
  },
  {
   "cell_type": "code",
   "execution_count": 38,
   "metadata": {},
   "outputs": [],
   "source": [
    "def compile_train_model(x_train, y_train, x_test, y_test,epochs=100):\n",
    "    \n",
    "    opt = tf.keras.optimizers.Adam(learning_rate=8e-5)\n",
    "    \n",
    "    opt_model = tf.keras.Sequential([\n",
    "    tf.keras.layers.Embedding(vocab_size, embedding_dim, input_length=max_length),\n",
    "    tf.keras.layers.GlobalAveragePooling1D(),\n",
    "    tf.keras.layers.Dense(24, activation='relu', kernel_regularizer=l2(0.001)),\n",
    "    tf.keras.layers.Dropout(0.2),\n",
    "    tf.keras.layers.Dense(1, activation='sigmoid')\n",
    "    ])\n",
    "    \n",
    "    \n",
    "                   \n",
    "    opt_model.compile(optimizer=opt, loss=\"binary_crossentropy\", metrics=[\"accuracy\"])\n",
    "    final_model=opt_model.fit(x_train, y_train,epochs=epochs,validation_data=(x_test,y_test))\n",
    "    return opt_model,final_model"
   ]
  },
  {
   "cell_type": "code",
   "execution_count": 39,
   "metadata": {},
   "outputs": [
    {
     "name": "stdout",
     "output_type": "stream",
     "text": [
      "Train on 8655 samples, validate on 2886 samples\n",
      "Epoch 1/100\n",
      "8655/8655 [==============================] - 3s 401us/sample - loss: 0.6869 - accuracy: 0.7946 - val_loss: 0.6685 - val_accuracy: 0.7883\n",
      "Epoch 2/100\n",
      "8655/8655 [==============================] - 2s 227us/sample - loss: 0.6469 - accuracy: 0.7976 - val_loss: 0.6283 - val_accuracy: 0.7883\n",
      "Epoch 3/100\n",
      "8655/8655 [==============================] - 2s 191us/sample - loss: 0.6061 - accuracy: 0.7976 - val_loss: 0.5891 - val_accuracy: 0.7883\n",
      "Epoch 4/100\n",
      "8655/8655 [==============================] - 2s 174us/sample - loss: 0.5677 - accuracy: 0.7976 - val_loss: 0.5581 - val_accuracy: 0.7883\n",
      "Epoch 5/100\n",
      "8655/8655 [==============================] - 2s 175us/sample - loss: 0.5432 - accuracy: 0.7976 - val_loss: 0.5409 - val_accuracy: 0.7883\n",
      "Epoch 6/100\n",
      "8655/8655 [==============================] - 1s 172us/sample - loss: 0.5306 - accuracy: 0.7976 - val_loss: 0.5330 - val_accuracy: 0.7883\n",
      "Epoch 7/100\n",
      "8655/8655 [==============================] - 2s 178us/sample - loss: 0.5263 - accuracy: 0.7976 - val_loss: 0.5292 - val_accuracy: 0.7883\n",
      "Epoch 8/100\n",
      "8655/8655 [==============================] - 1s 173us/sample - loss: 0.5214 - accuracy: 0.7976 - val_loss: 0.5269 - val_accuracy: 0.7883\n",
      "Epoch 9/100\n",
      "8655/8655 [==============================] - 1s 171us/sample - loss: 0.5192 - accuracy: 0.7976 - val_loss: 0.5250 - val_accuracy: 0.7883\n",
      "Epoch 10/100\n",
      "8655/8655 [==============================] - 2s 222us/sample - loss: 0.5180 - accuracy: 0.7976 - val_loss: 0.5234 - val_accuracy: 0.7883\n",
      "Epoch 11/100\n",
      "8655/8655 [==============================] - 2s 188us/sample - loss: 0.5157 - accuracy: 0.7976 - val_loss: 0.5217 - val_accuracy: 0.7883\n",
      "Epoch 12/100\n",
      "8655/8655 [==============================] - 2s 190us/sample - loss: 0.5130 - accuracy: 0.7976 - val_loss: 0.5202 - val_accuracy: 0.7883\n",
      "Epoch 13/100\n",
      "8655/8655 [==============================] - 2s 188us/sample - loss: 0.5142 - accuracy: 0.7976 - val_loss: 0.5186 - val_accuracy: 0.7883\n",
      "Epoch 14/100\n",
      "8655/8655 [==============================] - 2s 184us/sample - loss: 0.5113 - accuracy: 0.7976 - val_loss: 0.5172 - val_accuracy: 0.7883\n",
      "Epoch 15/100\n",
      "8655/8655 [==============================] - 2s 216us/sample - loss: 0.5087 - accuracy: 0.7976 - val_loss: 0.5157 - val_accuracy: 0.7883\n",
      "Epoch 16/100\n",
      "8655/8655 [==============================] - 2s 197us/sample - loss: 0.5085 - accuracy: 0.7976 - val_loss: 0.5143 - val_accuracy: 0.7883\n",
      "Epoch 17/100\n",
      "8655/8655 [==============================] - 1s 172us/sample - loss: 0.5061 - accuracy: 0.7976 - val_loss: 0.5128 - val_accuracy: 0.7883\n",
      "Epoch 18/100\n",
      "8655/8655 [==============================] - 1s 170us/sample - loss: 0.5087 - accuracy: 0.7976 - val_loss: 0.5113 - val_accuracy: 0.7883\n",
      "Epoch 19/100\n",
      "8655/8655 [==============================] - 2s 210us/sample - loss: 0.5024 - accuracy: 0.7976 - val_loss: 0.5098 - val_accuracy: 0.7883\n",
      "Epoch 20/100\n",
      "8655/8655 [==============================] - 2s 176us/sample - loss: 0.5031 - accuracy: 0.7976 - val_loss: 0.5082 - val_accuracy: 0.7883\n",
      "Epoch 21/100\n",
      "8655/8655 [==============================] - 2s 210us/sample - loss: 0.4991 - accuracy: 0.7976 - val_loss: 0.5067 - val_accuracy: 0.7883\n",
      "Epoch 22/100\n",
      "8655/8655 [==============================] - 2s 215us/sample - loss: 0.4987 - accuracy: 0.7976 - val_loss: 0.5049 - val_accuracy: 0.7883\n",
      "Epoch 23/100\n",
      "8655/8655 [==============================] - 2s 193us/sample - loss: 0.4973 - accuracy: 0.7976 - val_loss: 0.5031 - val_accuracy: 0.7883\n",
      "Epoch 24/100\n",
      "8655/8655 [==============================] - 2s 177us/sample - loss: 0.4947 - accuracy: 0.7976 - val_loss: 0.5012 - val_accuracy: 0.7883\n",
      "Epoch 25/100\n",
      "8655/8655 [==============================] - 2s 197us/sample - loss: 0.4934 - accuracy: 0.7976 - val_loss: 0.4992 - val_accuracy: 0.7883\n",
      "Epoch 26/100\n",
      "8655/8655 [==============================] - 2s 254us/sample - loss: 0.4916 - accuracy: 0.7976 - val_loss: 0.4970 - val_accuracy: 0.7883\n",
      "Epoch 27/100\n",
      "8655/8655 [==============================] - 2s 217us/sample - loss: 0.4891 - accuracy: 0.7976 - val_loss: 0.4948 - val_accuracy: 0.7883\n",
      "Epoch 28/100\n",
      "8655/8655 [==============================] - 2s 225us/sample - loss: 0.4871 - accuracy: 0.7976 - val_loss: 0.4920 - val_accuracy: 0.7883\n",
      "Epoch 29/100\n",
      "8655/8655 [==============================] - 2s 207us/sample - loss: 0.4836 - accuracy: 0.7976 - val_loss: 0.4891 - val_accuracy: 0.7883\n",
      "Epoch 30/100\n",
      "8655/8655 [==============================] - 2s 187us/sample - loss: 0.4803 - accuracy: 0.7976 - val_loss: 0.4856 - val_accuracy: 0.7883\n",
      "Epoch 31/100\n",
      "8655/8655 [==============================] - 2s 182us/sample - loss: 0.4764 - accuracy: 0.7976 - val_loss: 0.4818 - val_accuracy: 0.7883\n",
      "Epoch 32/100\n",
      "8655/8655 [==============================] - 2s 184us/sample - loss: 0.4727 - accuracy: 0.7976 - val_loss: 0.4778 - val_accuracy: 0.7883\n",
      "Epoch 33/100\n",
      "8655/8655 [==============================] - 2s 183us/sample - loss: 0.4699 - accuracy: 0.7976 - val_loss: 0.4735 - val_accuracy: 0.7883\n",
      "Epoch 34/100\n",
      "8655/8655 [==============================] - 2s 243us/sample - loss: 0.4655 - accuracy: 0.7976 - val_loss: 0.4689 - val_accuracy: 0.7883\n",
      "Epoch 35/100\n",
      "8655/8655 [==============================] - 2s 246us/sample - loss: 0.4583 - accuracy: 0.7976 - val_loss: 0.4640 - val_accuracy: 0.7883\n",
      "Epoch 36/100\n",
      "8655/8655 [==============================] - 2s 216us/sample - loss: 0.4543 - accuracy: 0.7976 - val_loss: 0.4588 - val_accuracy: 0.7883\n",
      "Epoch 37/100\n",
      "8655/8655 [==============================] - 2s 213us/sample - loss: 0.4496 - accuracy: 0.7976 - val_loss: 0.4534 - val_accuracy: 0.7883\n",
      "Epoch 38/100\n",
      "8655/8655 [==============================] - 2s 217us/sample - loss: 0.4447 - accuracy: 0.7976 - val_loss: 0.4476 - val_accuracy: 0.7883\n",
      "Epoch 39/100\n",
      "8655/8655 [==============================] - 2s 188us/sample - loss: 0.4377 - accuracy: 0.7976 - val_loss: 0.4417 - val_accuracy: 0.7883\n",
      "Epoch 40/100\n",
      "8655/8655 [==============================] - 2s 203us/sample - loss: 0.4318 - accuracy: 0.7976 - val_loss: 0.4356 - val_accuracy: 0.7883\n",
      "Epoch 41/100\n",
      "8655/8655 [==============================] - 2s 194us/sample - loss: 0.4253 - accuracy: 0.7978 - val_loss: 0.4294 - val_accuracy: 0.7883\n",
      "Epoch 42/100\n",
      "8655/8655 [==============================] - 2s 192us/sample - loss: 0.4200 - accuracy: 0.7982 - val_loss: 0.4232 - val_accuracy: 0.7883\n",
      "Epoch 43/100\n",
      "8655/8655 [==============================] - 2s 177us/sample - loss: 0.4140 - accuracy: 0.7999 - val_loss: 0.4168 - val_accuracy: 0.7900\n",
      "Epoch 44/100\n",
      "8655/8655 [==============================] - 2s 186us/sample - loss: 0.4066 - accuracy: 0.8039 - val_loss: 0.4109 - val_accuracy: 0.7904\n",
      "Epoch 45/100\n",
      "8655/8655 [==============================] - 2s 206us/sample - loss: 0.4021 - accuracy: 0.8073 - val_loss: 0.4047 - val_accuracy: 0.7970\n",
      "Epoch 46/100\n",
      "8655/8655 [==============================] - 2s 181us/sample - loss: 0.3954 - accuracy: 0.8136 - val_loss: 0.3990 - val_accuracy: 0.8060\n",
      "Epoch 47/100\n",
      "8655/8655 [==============================] - 2s 191us/sample - loss: 0.3902 - accuracy: 0.8203 - val_loss: 0.3935 - val_accuracy: 0.8160\n",
      "Epoch 48/100\n",
      "8655/8655 [==============================] - 2s 180us/sample - loss: 0.3844 - accuracy: 0.8302 - val_loss: 0.3884 - val_accuracy: 0.8219\n",
      "Epoch 49/100\n",
      "8655/8655 [==============================] - 2s 178us/sample - loss: 0.3792 - accuracy: 0.8392 - val_loss: 0.3835 - val_accuracy: 0.8264\n",
      "Epoch 50/100\n",
      "8655/8655 [==============================] - 2s 193us/sample - loss: 0.3739 - accuracy: 0.8433 - val_loss: 0.3787 - val_accuracy: 0.8430\n",
      "Epoch 51/100\n",
      "8655/8655 [==============================] - 2s 186us/sample - loss: 0.3690 - accuracy: 0.8481 - val_loss: 0.3743 - val_accuracy: 0.8482\n",
      "Epoch 52/100\n",
      "8655/8655 [==============================] - 2s 190us/sample - loss: 0.3648 - accuracy: 0.8519 - val_loss: 0.3702 - val_accuracy: 0.8569\n",
      "Epoch 53/100\n",
      "8655/8655 [==============================] - 2s 181us/sample - loss: 0.3590 - accuracy: 0.8601 - val_loss: 0.3662 - val_accuracy: 0.8590\n",
      "Epoch 54/100\n",
      "8655/8655 [==============================] - 2s 195us/sample - loss: 0.3564 - accuracy: 0.8615 - val_loss: 0.3624 - val_accuracy: 0.8631\n",
      "Epoch 55/100\n"
     ]
    },
    {
     "name": "stdout",
     "output_type": "stream",
     "text": [
      "8655/8655 [==============================] - 2s 179us/sample - loss: 0.3505 - accuracy: 0.8652 - val_loss: 0.3589 - val_accuracy: 0.8659\n",
      "Epoch 56/100\n",
      "8655/8655 [==============================] - 2s 175us/sample - loss: 0.3485 - accuracy: 0.8694 - val_loss: 0.3556 - val_accuracy: 0.8676\n",
      "Epoch 57/100\n",
      "8655/8655 [==============================] - 2s 201us/sample - loss: 0.3458 - accuracy: 0.8713 - val_loss: 0.3522 - val_accuracy: 0.8749\n",
      "Epoch 58/100\n",
      "8655/8655 [==============================] - 2s 179us/sample - loss: 0.3411 - accuracy: 0.8764 - val_loss: 0.3494 - val_accuracy: 0.8732\n",
      "Epoch 59/100\n",
      "8655/8655 [==============================] - 2s 195us/sample - loss: 0.3383 - accuracy: 0.8760 - val_loss: 0.3466 - val_accuracy: 0.8746\n",
      "Epoch 60/100\n",
      "8655/8655 [==============================] - 2s 181us/sample - loss: 0.3343 - accuracy: 0.8797 - val_loss: 0.3435 - val_accuracy: 0.8818\n",
      "Epoch 61/100\n",
      "8655/8655 [==============================] - 2s 195us/sample - loss: 0.3313 - accuracy: 0.8806 - val_loss: 0.3406 - val_accuracy: 0.8853\n",
      "Epoch 62/100\n",
      "8655/8655 [==============================] - 2s 181us/sample - loss: 0.3292 - accuracy: 0.8843 - val_loss: 0.3380 - val_accuracy: 0.8860\n",
      "Epoch 63/100\n",
      "8655/8655 [==============================] - 2s 181us/sample - loss: 0.3265 - accuracy: 0.8854 - val_loss: 0.3358 - val_accuracy: 0.8867\n",
      "Epoch 64/100\n",
      "8655/8655 [==============================] - 2s 192us/sample - loss: 0.3220 - accuracy: 0.8861 - val_loss: 0.3331 - val_accuracy: 0.8867\n",
      "Epoch 65/100\n",
      "8655/8655 [==============================] - 2s 179us/sample - loss: 0.3191 - accuracy: 0.8891 - val_loss: 0.3306 - val_accuracy: 0.8877\n",
      "Epoch 66/100\n",
      "8655/8655 [==============================] - 2s 188us/sample - loss: 0.3167 - accuracy: 0.8901 - val_loss: 0.3282 - val_accuracy: 0.8898\n",
      "Epoch 67/100\n",
      "8655/8655 [==============================] - 2s 181us/sample - loss: 0.3143 - accuracy: 0.8900 - val_loss: 0.3260 - val_accuracy: 0.8919\n",
      "Epoch 68/100\n",
      "8655/8655 [==============================] - 2s 178us/sample - loss: 0.3123 - accuracy: 0.8946 - val_loss: 0.3238 - val_accuracy: 0.8915\n",
      "Epoch 69/100\n",
      "8655/8655 [==============================] - 2s 189us/sample - loss: 0.3083 - accuracy: 0.8958 - val_loss: 0.3218 - val_accuracy: 0.8912\n",
      "Epoch 70/100\n",
      "8655/8655 [==============================] - 2s 191us/sample - loss: 0.3060 - accuracy: 0.8936 - val_loss: 0.3194 - val_accuracy: 0.8926\n",
      "Epoch 71/100\n",
      "8655/8655 [==============================] - 2s 179us/sample - loss: 0.3050 - accuracy: 0.8951 - val_loss: 0.3174 - val_accuracy: 0.8933\n",
      "Epoch 72/100\n",
      "8655/8655 [==============================] - 2s 201us/sample - loss: 0.3037 - accuracy: 0.8961 - val_loss: 0.3155 - val_accuracy: 0.8940\n",
      "Epoch 73/100\n",
      "8655/8655 [==============================] - 2s 178us/sample - loss: 0.3015 - accuracy: 0.8957 - val_loss: 0.3137 - val_accuracy: 0.8943\n",
      "Epoch 74/100\n",
      "8655/8655 [==============================] - 2s 195us/sample - loss: 0.2954 - accuracy: 0.9001 - val_loss: 0.3115 - val_accuracy: 0.8960\n",
      "Epoch 75/100\n",
      "8655/8655 [==============================] - 2s 273us/sample - loss: 0.2957 - accuracy: 0.9016 - val_loss: 0.3098 - val_accuracy: 0.8974\n",
      "Epoch 76/100\n",
      "8655/8655 [==============================] - 2s 212us/sample - loss: 0.2928 - accuracy: 0.9043 - val_loss: 0.3081 - val_accuracy: 0.8981\n",
      "Epoch 77/100\n",
      "8655/8655 [==============================] - 2s 175us/sample - loss: 0.2891 - accuracy: 0.9036 - val_loss: 0.3061 - val_accuracy: 0.8995\n",
      "Epoch 78/100\n",
      "8655/8655 [==============================] - 2s 180us/sample - loss: 0.2888 - accuracy: 0.9044 - val_loss: 0.3043 - val_accuracy: 0.9023\n",
      "Epoch 79/100\n",
      "8655/8655 [==============================] - 2s 198us/sample - loss: 0.2868 - accuracy: 0.9039 - val_loss: 0.3027 - val_accuracy: 0.9002\n",
      "Epoch 80/100\n",
      "8655/8655 [==============================] - 2s 202us/sample - loss: 0.2853 - accuracy: 0.9064 - val_loss: 0.3009 - val_accuracy: 0.9033\n",
      "Epoch 81/100\n",
      "8655/8655 [==============================] - 2s 196us/sample - loss: 0.2810 - accuracy: 0.9073 - val_loss: 0.2993 - val_accuracy: 0.9040\n",
      "Epoch 82/100\n",
      "8655/8655 [==============================] - 2s 181us/sample - loss: 0.2803 - accuracy: 0.9063 - val_loss: 0.2979 - val_accuracy: 0.9033\n",
      "Epoch 83/100\n",
      "8655/8655 [==============================] - 2s 182us/sample - loss: 0.2786 - accuracy: 0.9090 - val_loss: 0.2961 - val_accuracy: 0.9037\n",
      "Epoch 84/100\n",
      "8655/8655 [==============================] - 2s 187us/sample - loss: 0.2738 - accuracy: 0.9094 - val_loss: 0.2948 - val_accuracy: 0.9044\n",
      "Epoch 85/100\n",
      "8655/8655 [==============================] - 2s 178us/sample - loss: 0.2729 - accuracy: 0.9130 - val_loss: 0.2930 - val_accuracy: 0.9047\n",
      "Epoch 86/100\n",
      "8655/8655 [==============================] - 2s 177us/sample - loss: 0.2701 - accuracy: 0.9121 - val_loss: 0.2914 - val_accuracy: 0.9047\n",
      "Epoch 87/100\n",
      "8655/8655 [==============================] - 2s 182us/sample - loss: 0.2715 - accuracy: 0.9132 - val_loss: 0.2906 - val_accuracy: 0.9054\n",
      "Epoch 88/100\n",
      "8655/8655 [==============================] - 2s 179us/sample - loss: 0.2678 - accuracy: 0.9142 - val_loss: 0.2886 - val_accuracy: 0.9058\n",
      "Epoch 89/100\n",
      "8655/8655 [==============================] - 2s 184us/sample - loss: 0.2663 - accuracy: 0.9144 - val_loss: 0.2875 - val_accuracy: 0.9051\n",
      "Epoch 90/100\n",
      "8655/8655 [==============================] - 2s 181us/sample - loss: 0.2640 - accuracy: 0.9145 - val_loss: 0.2860 - val_accuracy: 0.9064\n",
      "Epoch 91/100\n",
      "8655/8655 [==============================] - 2s 190us/sample - loss: 0.2607 - accuracy: 0.9127 - val_loss: 0.2849 - val_accuracy: 0.9061\n",
      "Epoch 92/100\n",
      "8655/8655 [==============================] - 2s 180us/sample - loss: 0.2601 - accuracy: 0.9167 - val_loss: 0.2831 - val_accuracy: 0.9092\n",
      "Epoch 93/100\n",
      "8655/8655 [==============================] - 2s 181us/sample - loss: 0.2570 - accuracy: 0.9200 - val_loss: 0.2818 - val_accuracy: 0.9092\n",
      "Epoch 94/100\n",
      "8655/8655 [==============================] - 2s 179us/sample - loss: 0.2577 - accuracy: 0.9177 - val_loss: 0.2807 - val_accuracy: 0.9092\n",
      "Epoch 95/100\n",
      "8655/8655 [==============================] - 2s 180us/sample - loss: 0.2520 - accuracy: 0.9173 - val_loss: 0.2796 - val_accuracy: 0.9089\n",
      "Epoch 96/100\n",
      "8655/8655 [==============================] - 2s 178us/sample - loss: 0.2530 - accuracy: 0.9198 - val_loss: 0.2785 - val_accuracy: 0.9089\n",
      "Epoch 97/100\n",
      "8655/8655 [==============================] - 2s 178us/sample - loss: 0.2506 - accuracy: 0.9215 - val_loss: 0.2769 - val_accuracy: 0.9099\n",
      "Epoch 98/100\n",
      "8655/8655 [==============================] - 2s 181us/sample - loss: 0.2501 - accuracy: 0.9207 - val_loss: 0.2758 - val_accuracy: 0.9103\n",
      "Epoch 99/100\n",
      "8655/8655 [==============================] - 2s 180us/sample - loss: 0.2471 - accuracy: 0.9244 - val_loss: 0.2748 - val_accuracy: 0.9099\n",
      "Epoch 100/100\n",
      "8655/8655 [==============================] - 2s 180us/sample - loss: 0.2454 - accuracy: 0.9225 - val_loss: 0.2735 - val_accuracy: 0.9109\n"
     ]
    }
   ],
   "source": [
    "(opt_model,final_model)=compile_train_model(x_train,y_train,x_test,y_test)"
   ]
  },
  {
   "cell_type": "markdown",
   "metadata": {},
   "source": [
    "## Prediction"
   ]
  },
  {
   "cell_type": "code",
   "execution_count": 41,
   "metadata": {},
   "outputs": [],
   "source": [
    "y_pred=opt_model.predict(x_test)\n",
    "y_pred = (y_pred> 0.5)"
   ]
  },
  {
   "cell_type": "code",
   "execution_count": 44,
   "metadata": {},
   "outputs": [
    {
     "name": "stdout",
     "output_type": "stream",
     "text": [
      "8655/8655 [==============================] - 1s 59us/sample - loss: 0.2325 - accuracy: 0.9323\n",
      "2886/2886 [==============================] - 0s 61us/sample - loss: 0.2735 - accuracy: 0.9109\n",
      "[0.23247481048072713, 0.9322935] [0.2734839245831892, 0.9109494]\n"
     ]
    }
   ],
   "source": [
    "#Model Evaluation\n",
    "train_acc = opt_model.evaluate(x_train, y_train)\n",
    "test_acc = opt_model.evaluate(x_test,y_test)\n",
    "print(train_acc, test_acc)"
   ]
  },
  {
   "cell_type": "markdown",
   "metadata": {},
   "source": [
    "### Use OOPs concept to implement inference"
   ]
  },
  {
   "cell_type": "code",
   "execution_count": 45,
   "metadata": {},
   "outputs": [],
   "source": [
    "class Metrics:\n",
    "  def __init__(self,test_label, Predicted_label):\n",
    "    self.test_label=test_label\n",
    "    self.Predicted_label=Predicted_label\n",
    "  def ConfusionMatrix(self,test_label,Predicted_label):\n",
    "    cm=confusion_matrix(test_label,Predicted_label)\n",
    "    return cm\n",
    "    acc=accuracy_score(test_label,Predicted_label)\n",
    "  def Report(self,test_label,Predicted_label):\n",
    "    report = classification_report(test_label, Predicted_label)\n",
    "    return report"
   ]
  },
  {
   "cell_type": "code",
   "execution_count": 46,
   "metadata": {},
   "outputs": [],
   "source": [
    "Inference=Metrics(y_test, y_pred)"
   ]
  },
  {
   "cell_type": "code",
   "execution_count": 47,
   "metadata": {},
   "outputs": [
    {
     "name": "stdout",
     "output_type": "stream",
     "text": [
      "[[2222   53]\n",
      " [ 204  407]]\n",
      "              precision    recall  f1-score   support\n",
      "\n",
      "           0       0.92      0.98      0.95      2275\n",
      "           1       0.88      0.67      0.76       611\n",
      "\n",
      "    accuracy                           0.91      2886\n",
      "   macro avg       0.90      0.82      0.85      2886\n",
      "weighted avg       0.91      0.91      0.91      2886\n",
      "\n"
     ]
    }
   ],
   "source": [
    "print(Inference.ConfusionMatrix(y_test,y_pred))\n",
    "print(Inference.Report(y_test,y_pred))"
   ]
  },
  {
   "cell_type": "markdown",
   "metadata": {},
   "source": [
    "## Data Visualization"
   ]
  },
  {
   "cell_type": "code",
   "execution_count": 66,
   "metadata": {},
   "outputs": [],
   "source": [
    "loss_train = final_model.history['loss']\n",
    "loss_val = final_model.history['val_loss']\n",
    "epochs=range(len(loss)) \n",
    "\n",
    "def plot_loss(training_loss,testing_loss):    \n",
    "\n",
    "    plt.plot(epochs, training_loss, 'g', label='Training loss')\n",
    "    plt.plot(epochs, testing_loss, 'b', label='validation loss')\n",
    "    plt.title('Training and Validation loss')\n",
    "    plt.xlabel('Epochs')\n",
    "    plt.ylabel('Loss')\n",
    "    plt.legend()\n",
    "    plt.grid(True)\n",
    "    plt.show()"
   ]
  },
  {
   "cell_type": "code",
   "execution_count": 80,
   "metadata": {},
   "outputs": [
    {
     "data": {
      "image/png": "[encoded data removed]",
      "text/plain": [
       "<Figure size 720x432 with 1 Axes>"
      ]
     },
     "metadata": {
      "needs_background": "light"
     },
     "output_type": "display_data"
    }
   ],
   "source": [
    "plt.figure(figsize=(10,6))\n",
    "plot_loss(loss_train,loss_val)"
   ]
  },
  {
   "cell_type": "code",
   "execution_count": 77,
   "metadata": {},
   "outputs": [],
   "source": [
    "acc_train = final_model.history['accuracy']\n",
    "acc_val = final_model.history['val_accuracy']\n",
    "\n",
    "\n",
    "def plot_accuracy(training_acc,testing_acc):    \n",
    "\n",
    "    plt.plot(epochs, training_acc, 'g', label='Training Accuracy')\n",
    "    plt.plot(epochs, testing_acc, 'b', label='validation Accuracy')\n",
    "    plt.title('Training and Validation Accuracy')\n",
    "    plt.xlabel('Epochs')\n",
    "    plt.ylabel('Accuracy')\n",
    "    plt.legend()\n",
    "    plt.grid(True)\n",
    "    plt.show()"
   ]
  },
  {
   "cell_type": "code",
   "execution_count": 79,
   "metadata": {},
   "outputs": [
    {
     "data": {
      "image/png": "[encoded data removed]",
      "text/plain": [
       "<Figure size 720x432 with 1 Axes>"
      ]
     },
     "metadata": {
      "needs_background": "light"
     },
     "output_type": "display_data"
    }
   ],
   "source": [
    "plt.figure(figsize=(10,6))\n",
    "plot_accuracy(acc_train,acc_val)"
   ]
  },
  {
   "cell_type": "markdown",
   "metadata": {},
   "source": [
    "## API"
   ]
  },
  {
   "cell_type": "code",
   "execution_count": null,
   "metadata": {
    "scrolled": true
   },
   "outputs": [],
   "source": [
    "def Sentiment_classifier(sentiment):\n",
    "    tokenizer=Tokenizer(num_words=vocab_size, oov_token=oov_tok)\n",
    "    tokenizer.fit_on_texts([sentiment])\n",
    "    testing_sequences=tokenizer.texts_to_sequences([sentiment])\n",
    "    x_test = pad_sequences(testing_sequences,maxlen=120,truncating='post')\n",
    "    pred=opt_model.predict(x_test)\n",
    "    pred =  'Positive' if pred > 0.5 else 'Negative'\n",
    "    print(pred)\n",
    "    return pred\n",
    "   \n",
    "@view_config(renderer='json')\n",
    "def hello_world(request):\n",
    "    review = request.json_body[\"review\"]\n",
    "    return Response(Sentiment_classifier(review))\n",
    "\n",
    "if __name__ == '__main__':\n",
    "    with Configurator() as config:\n",
    "        \n",
    "        config.add_route('hello', '/')\n",
    "        config.add_view(hello_world, route_name='hello')\n",
    "        app = config.make_wsgi_app()\n",
    "    server = make_server('127.0.0.1', 8000, app)\n",
    "    print('Server Started')\n",
    "    server.serve_forever()"
   ]
  },
  {
   "cell_type": "markdown",
   "metadata": {},
   "source": [
    "## Pickle"
   ]
  },
  {
   "cell_type": "code",
   "execution_count": 92,
   "metadata": {},
   "outputs": [
    {
     "name": "stdout",
     "output_type": "stream",
     "text": [
      "WARNING:tensorflow:From C:\\Users\\Lenovo\\anaconda3\\envs\\Deep Learning\\lib\\site-packages\\tensorflow_core\\python\\ops\\resource_variable_ops.py:1786: calling BaseResourceVariable.__init__ (from tensorflow.python.ops.resource_variable_ops) with constraint is deprecated and will be removed in a future version.\n",
      "Instructions for updating:\n",
      "If using Keras pass *_constraint arguments to layers.\n",
      "INFO:tensorflow:Assets written to: model.h10\\assets\n",
      "Saved model to disk\n"
     ]
    }
   ],
   "source": [
    "opt_model.save(\"model.h10\")\n",
    "print(\"Saved model to disk\")"
   ]
  },
  {
   "cell_type": "code",
   "execution_count": 94,
   "metadata": {},
   "outputs": [],
   "source": [
    "Airplane_reviews = tf.keras.models.load_model('model.h10')"
   ]
  }
 ],
 "metadata": {
  "kernelspec": {
   "display_name": "Python 3",
   "language": "python",
   "name": "python3"
  },
  "language_info": {
   "codemirror_mode": {
    "name": "ipython",
    "version": 3
   },
   "file_extension": ".py",
   "mimetype": "text/x-python",
   "name": "python",
   "nbconvert_exporter": "python",
   "pygments_lexer": "ipython3",
   "version": "3.7.9"
  }
 },
 "nbformat": 4,
 "nbformat_minor": 4
}
